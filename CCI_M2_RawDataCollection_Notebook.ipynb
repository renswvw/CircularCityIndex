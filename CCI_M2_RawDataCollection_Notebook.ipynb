{
 "cells": [
  {
   "cell_type": "code",
   "execution_count": 1,
   "metadata": {},
   "outputs": [],
   "source": [
    "# importing the required modules\n",
    "import os\n",
    "import urllib"
   ]
  },
  {
   "cell_type": "code",
   "execution_count": 2,
   "metadata": {},
   "outputs": [
    {
     "name": "stdout",
     "output_type": "stream",
     "text": [
      "Current working directory: c:\\Users\\rensw\\OneDrive - Universiteit Utrecht\\GIMA\\Thesis - Buitenland\\Thesis\\Data\\Raw_data\\M4\n"
     ]
    }
   ],
   "source": [
    "# Get the current working directory\n",
    "cwd = os.getcwd()\n",
    "\n",
    "# Print the current working directory\n",
    "print(\"Current working directory: {0}\".format(cwd))"
   ]
  },
  {
   "cell_type": "code",
   "execution_count": null,
   "metadata": {},
   "outputs": [
    {
     "data": {
      "text/plain": [
       "('c:\\\\Users\\\\rensw\\\\OneDrive - Universiteit Utrecht\\\\GIMA\\\\Thesis - Buitenland\\\\Thesis\\\\Data\\\\Raw_data\\\\ECR5/raw/ECR5_rawdata_03112022.zip',\n",
       " <http.client.HTTPMessage at 0x24b496464d0>)"
      ]
     },
     "metadata": {},
     "output_type": "display_data"
    }
   ],
   "source": [
    "# download OpenStreetMap data from Spain - Mainland (2021) from the url and save in raw folder map (M2)\n",
    "outfilename = \"spain-210101.osm.pbf\"\n",
    "url_of_file = \"https://download.geofabrik.de/europe/spain-210101.osm.pbf\"\n",
    "rawdata = 'M2_rawdata_Spain_Mainland_03112022.pbf'\n",
    "raw_folder = 'raw'\n",
    "path_rawdata = cwd + '/' + raw_folder + '/' + rawdata\n",
    "file = urllib.request.urlretrieve(url_of_file, path_rawdata) \n",
    "print(file)"
   ]
  },
  {
   "cell_type": "code",
   "execution_count": 3,
   "metadata": {},
   "outputs": [
    {
     "name": "stdout",
     "output_type": "stream",
     "text": [
      "('c:\\\\Users\\\\rensw\\\\OneDrive - Universiteit Utrecht\\\\GIMA\\\\Thesis - Buitenland\\\\Thesis\\\\Data\\\\Raw_data\\\\M4/raw/M4_rawdata_Spain_CanaryIslands_03112022.pbf', <http.client.HTTPMessage object at 0x00000185D7903940>)\n"
     ]
    }
   ],
   "source": [
    "# download OpenStreetMap data from Spain - Canary Islands (2021) from the url and save in raw folder map (M2)\n",
    "outfilename = \"canary-islands-210101.osm.pbf\"\n",
    "url_of_file = \"https://download.geofabrik.de/africa/canary-islands-210101.osm.pbf\"\n",
    "rawdata = 'M2_rawdata_Spain_CanaryIslands_03112022.pbf'\n",
    "raw_folder = 'raw'\n",
    "path_rawdata = cwd + '/' + raw_folder + '/' + rawdata\n",
    "file = urllib.request.urlretrieve(url_of_file, path_rawdata) \n",
    "print(file)"
   ]
  }
 ],
 "metadata": {
  "kernelspec": {
   "display_name": "Python 3.9.10",
   "language": "python",
   "name": "python3"
  },
  "language_info": {
   "codemirror_mode": {
    "name": "ipython",
    "version": 3
   },
   "file_extension": ".py",
   "mimetype": "text/x-python",
   "name": "python",
   "nbconvert_exporter": "python",
   "pygments_lexer": "ipython3",
   "version": "3.9.10"
  },
  "orig_nbformat": 4,
  "vscode": {
   "interpreter": {
    "hash": "61091f059b156ff61f5c25e7d74939e877fba054d7631de962b93c89f1908afa"
   }
  }
 },
 "nbformat": 4,
 "nbformat_minor": 2
}
