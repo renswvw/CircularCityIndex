{
 "cells": [
  {
   "cell_type": "code",
   "execution_count": 4,
   "metadata": {},
   "outputs": [],
   "source": [
    "# importing the required modules\n",
    "import os\n",
    "import geopandas as gpd\n",
    "from glob import glob"
   ]
  },
  {
   "cell_type": "code",
   "execution_count": 5,
   "metadata": {},
   "outputs": [
    {
     "name": "stdout",
     "output_type": "stream",
     "text": [
      "Current working directory: c:\\Users\\rensw\\OneDrive - Universiteit Utrecht\\GIMA\\Thesis - Buitenland\\Thesis\\Data\\Raw_data\\M4\n"
     ]
    }
   ],
   "source": [
    "# Get the current working directory\n",
    "cwd = os.getcwd()\n",
    "\n",
    "# Print the current working directory\n",
    "print(\"Current working directory: {0}\".format(cwd))"
   ]
  },
  {
   "cell_type": "markdown",
   "metadata": {},
   "source": [
    "## Filter datasets from highway:bus_stop"
   ]
  },
  {
   "cell_type": "code",
   "execution_count": 6,
   "metadata": {},
   "outputs": [],
   "source": [
    "# create new folders\n",
    "#os.makedirs(cwd + '/interim/M4_filtereddata_spain_mainland_04112022')\n",
    "#os.makedirs(cwd + '/interim/M4_filtereddata_spain_canary_04112022')"
   ]
  },
  {
   "cell_type": "code",
   "execution_count": 7,
   "metadata": {},
   "outputs": [
    {
     "name": "stdout",
     "output_type": "stream",
     "text": [
      "c:\\Users\\rensw\\OneDrive - Universiteit Utrecht\\GIMA\\Thesis - Buitenland\\Thesis\\Data\\Raw_data\\M4\\raw\\Spain_Mainland_OSM_210101_FME\n"
     ]
    },
    {
     "name": "stderr",
     "output_type": "stream",
     "text": [
      "c:\\Users\\rensw\\miniconda3\\envs\\pcraster\\lib\\site-packages\\geopandas\\io\\file.py:362: FutureWarning: pandas.Int64Index is deprecated and will be removed from pandas in a future version. Use pandas.Index with the appropriate dtype instead.\n",
      "  pd.Int64Index,\n"
     ]
    },
    {
     "name": "stdout",
     "output_type": "stream",
     "text": [
      "                                          name   highway  \\\n",
      "4747   Estación de Autobuses de Alcalá la Real  bus_stop   \n",
      "6446                                      None  bus_stop   \n",
      "6447                                      None  bus_stop   \n",
      "6448                                      None  bus_stop   \n",
      "7719                         Nivel -1 - Isla 1  bus_stop   \n",
      "7720                         Nivel -1 - Isla 2  bus_stop   \n",
      "7721                         Nivel -1 - Isla 3  bus_stop   \n",
      "8392                          Parada Autobuses  bus_stop   \n",
      "9100                                      None  bus_stop   \n",
      "9714            Prado San Sebastián (Carlos V)  bus_stop   \n",
      "14140                        Para de autobuses  bus_stop   \n",
      "18564                      Fuejo (Casa Santos)  bus_stop   \n",
      "19282                               Villaverde  bus_stop   \n",
      "19284              Vírgala Mayor/Birgara Goien  bus_stop   \n",
      "19309                                     None  bus_stop   \n",
      "19872                                  Andollu  bus_stop   \n",
      "21168                                     None  bus_stop   \n",
      "21559                                     None  bus_stop   \n",
      "21588                                     None  bus_stop   \n",
      "21589                                     None  bus_stop   \n",
      "21590                                     None  bus_stop   \n",
      "22135                                     None  bus_stop   \n",
      "22401                        Parada de autobús  bus_stop   \n",
      "22441                                San Mateo  bus_stop   \n",
      "22487                                     None  bus_stop   \n",
      "22534                                San Ramón  bus_stop   \n",
      "22536                                 Destello  bus_stop   \n",
      "22648                                     None  bus_stop   \n",
      "22722                                  Cuartel  bus_stop   \n",
      "22748                                     None  bus_stop   \n",
      "22808                                     None  bus_stop   \n",
      "22817                      Estación de autobús  bus_stop   \n",
      "23036                                     None  bus_stop   \n",
      "23037                                     None  bus_stop   \n",
      "23402                                     None  bus_stop   \n",
      "23403             Estación Autobus Mancha Real  bus_stop   \n",
      "23412                                     None  bus_stop   \n",
      "23553                                  Somahoz  bus_stop   \n",
      "23554                                     None  bus_stop   \n",
      "23555                                     None  bus_stop   \n",
      "23556                                 Destello  bus_stop   \n",
      "23557                            La Pontanilla  bus_stop   \n",
      "23558                                   Barros  bus_stop   \n",
      "23619                                     None  bus_stop   \n",
      "23860                                     None  bus_stop   \n",
      "23912                                     None  bus_stop   \n",
      "23920                                     None  bus_stop   \n",
      "23938                                     None  bus_stop   \n",
      "25902                                     None  bus_stop   \n",
      "\n",
      "                                                geometry  \n",
      "4747   POLYGON ((-3.92272 37.45589, -3.92213 37.45634...  \n",
      "6446   POLYGON ((-3.71898 43.45422, -3.71893 43.45423...  \n",
      "6447   POLYGON ((-3.69976 43.45919, -3.69973 43.45921...  \n",
      "6448   POLYGON ((-3.66300 43.46793, -3.66295 43.46794...  \n",
      "7719   POLYGON ((-3.71949 40.43474, -3.71886 40.43380...  \n",
      "7720   POLYGON ((-3.72007 40.43575, -3.71910 40.43523...  \n",
      "7721   POLYGON ((-3.71984 40.43603, -3.71886 40.43550...  \n",
      "8392   POLYGON ((-7.91302 42.34806, -7.91300 42.34805...  \n",
      "9100   POLYGON ((-2.98323 43.38046, -2.98321 43.38052...  \n",
      "9714   POLYGON ((-5.98702 37.38078, -5.98698 37.38077...  \n",
      "14140  POLYGON ((-4.39191 40.23404, -4.39193 40.23407...  \n",
      "18564  POLYGON ((-5.98701 43.36529, -5.98699 43.36528...  \n",
      "19282  POLYGON ((-2.56678 42.62384, -2.56678 42.62387...  \n",
      "19284  POLYGON ((-2.47571 42.75246, -2.47576 42.75248...  \n",
      "19309  POLYGON ((-2.80530 43.42918, -2.80532 43.42920...  \n",
      "19872  POLYGON ((-2.56951 42.83080, -2.56954 42.83083...  \n",
      "21168  POLYGON ((-8.61040 42.28322, -8.61032 42.28318...  \n",
      "21559  POLYGON ((-5.73628 42.42193, -5.73629 42.42194...  \n",
      "21588  POLYGON ((-8.51409 42.21478, -8.51407 42.21480...  \n",
      "21589  POLYGON ((-8.51317 42.21253, -8.51314 42.21255...  \n",
      "21590  POLYGON ((-8.50911 42.20807, -8.50910 42.20810...  \n",
      "22135  POLYGON ((-4.12037 41.11429, -4.12032 41.11430...  \n",
      "22401  POLYGON ((-1.28756 41.16477, -1.28756 41.16479...  \n",
      "22441  POLYGON ((-4.07622 43.27328, -4.07620 43.27328...  \n",
      "22487  POLYGON ((-4.03055 43.27968, -4.03051 43.27968...  \n",
      "22534  POLYGON ((-4.06353 43.27029, -4.06348 43.27029...  \n",
      "22536  POLYGON ((-4.06941 43.26151, -4.06940 43.26151...  \n",
      "22648  POLYGON ((-2.72545 43.41936, -2.72548 43.41942...  \n",
      "22722  POLYGON ((-4.06686 43.25405, -4.06684 43.25405...  \n",
      "22748  POLYGON ((-3.98447 41.71123, -3.98446 41.71128...  \n",
      "22808  POLYGON ((-2.13842 40.05739, -2.13841 40.05739...  \n",
      "22817  POLYGON ((-6.47661 38.92303, -6.47640 38.92295...  \n",
      "23036  POLYGON ((-5.59998 42.14425, -5.59994 42.14425...  \n",
      "23037  POLYGON ((-5.60026 42.14421, -5.60023 42.14421...  \n",
      "23402  POLYGON ((-5.60045 43.15146, -5.60042 43.15144...  \n",
      "23403  POLYGON ((-3.60907 37.78817, -3.60910 37.78873...  \n",
      "23412  POLYGON ((-4.26092 43.26283, -4.26086 43.26285...  \n",
      "23553  POLYGON ((-4.06237 43.24783, -4.06241 43.24785...  \n",
      "23554  POLYGON ((-4.06783 43.25822, -4.06807 43.25856...  \n",
      "23555  POLYGON ((-4.06807 43.25825, -4.06819 43.25843...  \n",
      "23556  POLYGON ((-4.06955 43.26141, -4.06954 43.26141...  \n",
      "23557  POLYGON ((-4.06858 43.26291, -4.06858 43.26292...  \n",
      "23558  POLYGON ((-4.07758 43.27921, -4.07756 43.27919...  \n",
      "23619  POLYGON ((-2.67634 43.40927, -2.67630 43.40924...  \n",
      "23860  POLYGON ((-0.88111 38.09114, -0.88105 38.09115...  \n",
      "23912  POLYGON ((-0.85040 38.10368, -0.85025 38.10377...  \n",
      "23920  POLYGON ((-0.85085 38.30944, -0.85068 38.30949...  \n",
      "23938  POLYGON ((-5.82398 43.63658, -5.82398 43.63659...  \n",
      "25902  POLYGON ((-3.84715 43.44465, -3.84691 43.44493...  \n"
     ]
    },
    {
     "name": "stderr",
     "output_type": "stream",
     "text": [
      "c:\\Users\\rensw\\miniconda3\\envs\\pcraster\\lib\\site-packages\\geopandas\\io\\file.py:362: FutureWarning: pandas.Int64Index is deprecated and will be removed from pandas in a future version. Use pandas.Index with the appropriate dtype instead.\n",
      "  pd.Int64Index,\n"
     ]
    },
    {
     "name": "stdout",
     "output_type": "stream",
     "text": [
      "                                            name   highway  \\\n",
      "60                         Càmping Vilanova Park  bus_stop   \n",
      "67      Rambla del Garraf amb Osona (Vilanoveta)  bus_stop   \n",
      "344            Pg. de Colom-Pl. Portal de la Pau  bus_stop   \n",
      "616                                         None  bus_stop   \n",
      "1272                                   Txirriena  bus_stop   \n",
      "...                                          ...       ...   \n",
      "673499                            Entrambasaguas  bus_stop   \n",
      "673501                        Villanueva de Mena  bus_stop   \n",
      "673502                         Villasana de Mena  bus_stop   \n",
      "673503                         Villasana de Mena  bus_stop   \n",
      "673716                                      None  bus_stop   \n",
      "\n",
      "                         geometry  \n",
      "60       POINT (1.69056 41.23179)  \n",
      "67       POINT (1.74890 41.23501)  \n",
      "344      POINT (2.17814 41.37580)  \n",
      "616     POINT (-3.83941 40.40594)  \n",
      "1272    POINT (-2.72731 43.21436)  \n",
      "...                           ...  \n",
      "673499  POINT (-3.26347 43.11649)  \n",
      "673501  POINT (-3.29355 43.10127)  \n",
      "673502  POINT (-3.28330 43.10062)  \n",
      "673503  POINT (-3.28333 43.10068)  \n",
      "673716  POINT (-8.79288 42.94730)  \n",
      "\n",
      "[52210 rows x 3 columns]\n"
     ]
    },
    {
     "name": "stderr",
     "output_type": "stream",
     "text": [
      "c:\\Users\\rensw\\miniconda3\\envs\\pcraster\\lib\\site-packages\\geopandas\\io\\file.py:362: FutureWarning: pandas.Int64Index is deprecated and will be removed from pandas in a future version. Use pandas.Index with the appropriate dtype instead.\n",
      "  pd.Int64Index,\n"
     ]
    },
    {
     "name": "stdout",
     "output_type": "stream",
     "text": [
      "                              name   highway  \\\n",
      "1438358                Tomás Meabe  bus_stop   \n",
      "1438359                Tomás Meabe  bus_stop   \n",
      "1529195                       None  bus_stop   \n",
      "1567347  Intercampus, Arquitectura  bus_stop   \n",
      "1783386               Cabañaquinta  bus_stop   \n",
      "1783387               Cabanaquinta  bus_stop   \n",
      "2182270                    Ubrique  bus_stop   \n",
      "2705885         Transporte Público  bus_stop   \n",
      "2914430                       None  bus_stop   \n",
      "3133466                       None  bus_stop   \n",
      "3250933                       None  bus_stop   \n",
      "3836134                AVV. Canido  bus_stop   \n",
      "3836941                      Couto  bus_stop   \n",
      "\n",
      "                                                  geometry  \n",
      "1438358  LINESTRING (-2.90016 43.24543, -2.90009 43.24546)  \n",
      "1438359  LINESTRING (-2.90013 43.24539, -2.90006 43.24542)  \n",
      "1529195  LINESTRING (-3.12430 39.40326, -3.12423 39.403...  \n",
      "1567347  LINESTRING (-8.41007 43.32698, -8.41011 43.32694)  \n",
      "1783386  LINESTRING (-5.62537 43.16086, -5.62448 43.16056)  \n",
      "1783387  LINESTRING (-5.62441 43.16043, -5.62443 43.160...  \n",
      "2182270  LINESTRING (-6.36320 36.62162, -6.36300 36.621...  \n",
      "2705885  LINESTRING (-3.86957 40.34017, -3.86981 40.340...  \n",
      "2914430  LINESTRING (-7.13811 39.36238, -7.13808 39.362...  \n",
      "3133466  LINESTRING (-3.24590 42.99076, -3.24579 42.99068)  \n",
      "3250933  LINESTRING (-3.10312 39.12850, -3.10288 39.128...  \n",
      "3836134  LINESTRING (-8.24211 43.48503, -8.24223 43.48495)  \n",
      "3836941  LINESTRING (-8.17634 43.49763, -8.17599 43.497...  \n",
      "highway_way_1.shp is empty\n"
     ]
    }
   ],
   "source": [
    "# create path for Spain Mainland\n",
    "path_rawdata_mainland = cwd + '\\\\raw\\Spain_Mainland_OSM_210101_FME'\n",
    "print(path_rawdata_mainland)\n",
    "\n",
    "# filter on key:tag combination in datasets\n",
    "for file in glob(path_rawdata_mainland + '/' + 'highway_*.shp'):\n",
    "    # get file name \n",
    "    file_name = os.path.basename(file)\n",
    "    dataSrc = gpd.read_file(file)\n",
    "    new_shp = dataSrc[dataSrc['highway'] =='bus_stop']\n",
    "    if new_shp.empty == True:\n",
    "        print(file_name + ' is empty')\n",
    "        continue\n",
    "    else:\n",
    "        new_shp.to_file(cwd + '/interim/' + 'M4_filtereddata_spain_mainland_04112022/' + file_name)\n",
    "    print(new_shp)"
   ]
  },
  {
   "cell_type": "code",
   "execution_count": 8,
   "metadata": {},
   "outputs": [
    {
     "name": "stdout",
     "output_type": "stream",
     "text": [
      "c:\\Users\\rensw\\OneDrive - Universiteit Utrecht\\GIMA\\Thesis - Buitenland\\Thesis\\Data\\Raw_data\\M4\\raw\\Spain_CanaryIslands_OSM_210101_FME\n"
     ]
    },
    {
     "name": "stderr",
     "output_type": "stream",
     "text": [
      "c:\\Users\\rensw\\miniconda3\\envs\\pcraster\\lib\\site-packages\\geopandas\\io\\file.py:362: FutureWarning: pandas.Int64Index is deprecated and will be removed from pandas in a future version. Use pandas.Index with the appropriate dtype instead.\n",
      "  pd.Int64Index,\n"
     ]
    },
    {
     "name": "stdout",
     "output_type": "stream",
     "text": [
      "      name   highway                                           geometry\n",
      "752   None  bus_stop  POLYGON ((-17.19151 28.03464, -17.19147 28.034...\n",
      "1473  None  bus_stop  POLYGON ((-15.43310 28.12814, -15.43308 28.128...\n"
     ]
    },
    {
     "name": "stderr",
     "output_type": "stream",
     "text": [
      "c:\\Users\\rensw\\miniconda3\\envs\\pcraster\\lib\\site-packages\\geopandas\\io\\file.py:362: FutureWarning: pandas.Int64Index is deprecated and will be removed from pandas in a future version. Use pandas.Index with the appropriate dtype instead.\n",
      "  pd.Int64Index,\n"
     ]
    },
    {
     "name": "stdout",
     "output_type": "stream",
     "text": [
      "                           name   highway                    geometry\n",
      "12                     Tigalate  bus_stop  POINT (-17.80114 28.55419)\n",
      "13                         None  bus_stop  POINT (-17.78027 28.57093)\n",
      "14                      Belmaco  bus_stop  POINT (-17.77790 28.57397)\n",
      "15                         None  bus_stop  POINT (-17.78724 28.57531)\n",
      "16                         None  bus_stop  POINT (-17.78524 28.57833)\n",
      "...                         ...       ...                         ...\n",
      "38038  Iglesia de la Concepción  bus_stop  POINT (-17.91468 27.80764)\n",
      "38057                      None  bus_stop  POINT (-17.19448 28.18567)\n",
      "38058                      None  bus_stop  POINT (-17.91327 27.81124)\n",
      "38127                      None  bus_stop  POINT (-17.26583 28.17917)\n",
      "38138                      None  bus_stop  POINT (-17.97650 28.77455)\n",
      "\n",
      "[7353 rows x 3 columns]\n",
      "                                name   highway  \\\n",
      "78590                     Gran Hotel  bus_stop   \n",
      "78777   Carretera Tías-San Bartolomé  bus_stop   \n",
      "101622                          None  bus_stop   \n",
      "101625                          None  bus_stop   \n",
      "\n",
      "                                                 geometry  \n",
      "78590   LINESTRING (-13.55504 28.95788, -13.55514 28.9...  \n",
      "78777   LINESTRING (-13.64903 28.96104, -13.64901 28.9...  \n",
      "101622  LINESTRING (-15.56582 28.14454, -15.56577 28.1...  \n",
      "101625  LINESTRING (-15.56654 28.14468, -15.56649 28.1...  \n"
     ]
    },
    {
     "name": "stderr",
     "output_type": "stream",
     "text": [
      "c:\\Users\\rensw\\miniconda3\\envs\\pcraster\\lib\\site-packages\\geopandas\\io\\file.py:362: FutureWarning: pandas.Int64Index is deprecated and will be removed from pandas in a future version. Use pandas.Index with the appropriate dtype instead.\n",
      "  pd.Int64Index,\n"
     ]
    }
   ],
   "source": [
    "# create path for Canary Islands\n",
    "path_rawdata_canary = cwd + '\\\\raw\\Spain_CanaryIslands_OSM_210101_FME'\n",
    "print(path_rawdata_canary)\n",
    "\n",
    "# filter on key:tag combination in datasets\n",
    "for file in glob(path_rawdata_canary + '/' + 'highway_*.shp'):\n",
    "    # get file name \n",
    "    file_name = os.path.basename(file)\n",
    "    dataSrc = gpd.read_file(file)\n",
    "    new_shp = dataSrc[dataSrc['highway'] =='bus_stop']\n",
    "    if new_shp.empty == True:\n",
    "        print(file_name + ' is empty')\n",
    "        continue\n",
    "    else:\n",
    "        new_shp.to_file(cwd + '/interim/' + 'M4_filtereddata_spain_canary_04112022/' + file_name)\n",
    "    print(new_shp)"
   ]
  }
 ],
 "metadata": {
  "kernelspec": {
   "display_name": "Python 3.9.10",
   "language": "python",
   "name": "python3"
  },
  "language_info": {
   "codemirror_mode": {
    "name": "ipython",
    "version": 3
   },
   "file_extension": ".py",
   "mimetype": "text/x-python",
   "name": "python",
   "nbconvert_exporter": "python",
   "pygments_lexer": "ipython3",
   "version": "3.9.10"
  },
  "orig_nbformat": 4,
  "vscode": {
   "interpreter": {
    "hash": "61091f059b156ff61f5c25e7d74939e877fba054d7631de962b93c89f1908afa"
   }
  }
 },
 "nbformat": 4,
 "nbformat_minor": 2
}
