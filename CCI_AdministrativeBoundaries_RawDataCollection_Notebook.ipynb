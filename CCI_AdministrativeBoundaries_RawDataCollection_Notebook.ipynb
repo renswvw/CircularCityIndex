{
 "cells": [
  {
   "cell_type": "code",
   "execution_count": 1,
   "metadata": {},
   "outputs": [],
   "source": [
    "# importing the required modules\n",
    "import os\n",
    "from zipfile import ZipFile\n",
    "import urllib\n",
    "from glob import glob"
   ]
  },
  {
   "cell_type": "code",
   "execution_count": 2,
   "metadata": {},
   "outputs": [
    {
     "name": "stdout",
     "output_type": "stream",
     "text": [
      "Current working directory: c:\\Users\\rensw\\OneDrive - Universiteit Utrecht\\GIMA\\Thesis - Buitenland\\Thesis\\Data\\Raw_data\\Administrative_Boundaries\n"
     ]
    }
   ],
   "source": [
    "# Get the current working directory\n",
    "cwd = os.getcwd()\n",
    "\n",
    "# Print the current working directory\n",
    "print(\"Current working directory: {0}\".format(cwd))"
   ]
  },
  {
   "cell_type": "code",
   "execution_count": 3,
   "metadata": {},
   "outputs": [
    {
     "name": "stdout",
     "output_type": "stream",
     "text": [
      "c:\\Users\\rensw\\OneDrive - Universiteit Utrecht\\GIMA\\Thesis - Buitenland\\Thesis\\Data\\Raw_data\\Administrative_Boundaries/raw/AdministrativeBoundaries_rawdata_14112022.zip\n"
     ]
    }
   ],
   "source": [
    "# read the zip folder from the url and save in raw folder map (Adm. Boundaries)\n",
    "outfilename = \"lineas_limite_gml.zip\"\n",
    "url_of_file = \"http://centrodedescargas.cnig.es/CentroDescargas/documentos/atom/au/lineas_limite_gml.zip\"\n",
    "zipfilename = 'AdministrativeBoundaries_rawdata_14112022.zip'\n",
    "raw_folder = 'raw'\n",
    "path_zip_folder = cwd + '/' + raw_folder + '/' + zipfilename\n",
    "file = urllib.request.urlretrieve(url_of_file, path_zip_folder) \n",
    "print(path_zip_folder)"
   ]
  },
  {
   "cell_type": "code",
   "execution_count": 4,
   "metadata": {},
   "outputs": [],
   "source": [
    "# Unpack raw zipfolder\n",
    "zip = ZipFile(path_zip_folder)\n",
    "zip.extractall(cwd + '/' + raw_folder)"
   ]
  }
 ],
 "metadata": {
  "kernelspec": {
   "display_name": "Python 3.9.10",
   "language": "python",
   "name": "python3"
  },
  "language_info": {
   "codemirror_mode": {
    "name": "ipython",
    "version": 3
   },
   "file_extension": ".py",
   "mimetype": "text/x-python",
   "name": "python",
   "nbconvert_exporter": "python",
   "pygments_lexer": "ipython3",
   "version": "3.9.10"
  },
  "orig_nbformat": 4,
  "vscode": {
   "interpreter": {
    "hash": "61091f059b156ff61f5c25e7d74939e877fba054d7631de962b93c89f1908afa"
   }
  }
 },
 "nbformat": 4,
 "nbformat_minor": 2
}
