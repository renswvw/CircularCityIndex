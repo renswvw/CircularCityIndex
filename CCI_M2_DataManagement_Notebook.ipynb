{
 "cells": [
  {
   "cell_type": "code",
   "execution_count": 1,
   "metadata": {},
   "outputs": [],
   "source": [
    "# importing the required modules\n",
    "import os\n",
    "import geopandas as gpd\n",
    "from glob import glob"
   ]
  },
  {
   "cell_type": "code",
   "execution_count": 2,
   "metadata": {},
   "outputs": [
    {
     "name": "stdout",
     "output_type": "stream",
     "text": [
      "Current working directory: c:\\Users\\rensw\\OneDrive - Universiteit Utrecht\\GIMA\\Thesis - Buitenland\\Thesis\\Data\\Raw_data\\M2\n"
     ]
    }
   ],
   "source": [
    "# Get the current working directory\n",
    "cwd = os.getcwd()\n",
    "\n",
    "# Print the current working directory\n",
    "print(\"Current working directory: {0}\".format(cwd))"
   ]
  },
  {
   "cell_type": "markdown",
   "metadata": {},
   "source": [
    "## Filter datasets from Place, Highway and Leisure"
   ]
  },
  {
   "cell_type": "code",
   "execution_count": 3,
   "metadata": {},
   "outputs": [],
   "source": [
    "# create new folders\n",
    "#os.makedirs(cwd + '/interim/M2_filtereddata_spain_mainland_03112022')\n",
    "#os.makedirs(cwd + '/interim/M2_filtereddata_spain_canary_03112022')"
   ]
  },
  {
   "cell_type": "code",
   "execution_count": 4,
   "metadata": {},
   "outputs": [
    {
     "name": "stdout",
     "output_type": "stream",
     "text": [
      "c:\\Users\\rensw\\OneDrive - Universiteit Utrecht\\GIMA\\Thesis - Buitenland\\Thesis\\Data\\Raw_data\\M2\\raw\\Spain_Mainland_OSM_210101_FME\n"
     ]
    },
    {
     "name": "stderr",
     "output_type": "stream",
     "text": [
      "c:\\Users\\rensw\\miniconda3\\envs\\pcraster\\lib\\site-packages\\geopandas\\io\\file.py:362: FutureWarning: pandas.Int64Index is deprecated and will be removed from pandas in a future version. Use pandas.Index with the appropriate dtype instead.\n",
      "  pd.Int64Index,\n"
     ]
    },
    {
     "name": "stdout",
     "output_type": "stream",
     "text": [
      "        name           amenity  \\\n",
      "135968  None  charging_station   \n",
      "\n",
      "                                                 geometry  \n",
      "135968  POLYGON ((-4.02824 40.62505, -4.02821 40.62514...  \n"
     ]
    },
    {
     "name": "stderr",
     "output_type": "stream",
     "text": [
      "c:\\Users\\rensw\\miniconda3\\envs\\pcraster\\lib\\site-packages\\geopandas\\io\\file.py:362: FutureWarning: pandas.Int64Index is deprecated and will be removed from pandas in a future version. Use pandas.Index with the appropriate dtype instead.\n",
      "  pd.Int64Index,\n"
     ]
    },
    {
     "name": "stdout",
     "output_type": "stream",
     "text": [
      "                        name           amenity                   geometry\n",
      "33922   Babel Informática SL  charging_station  POINT (-4.04415 40.48975)\n",
      "35317                   None  charging_station  POINT (-4.73602 41.64876)\n",
      "35318                   None  charging_station  POINT (-4.73597 41.64874)\n",
      "38177                   None  charging_station  POINT (-3.87398 40.45532)\n",
      "41182                   None  charging_station  POINT (-3.88453 40.52337)\n",
      "...                      ...               ...                        ...\n",
      "369216                  None  charging_station   POINT (1.12621 41.08414)\n",
      "369331      Estación de Tren  charging_station  POINT (-6.38532 39.46060)\n",
      "369374                  None  charging_station  POINT (-3.61153 42.16785)\n",
      "369493                  None  charging_station  POINT (-5.81734 43.10635)\n",
      "369525                  None  charging_station   POINT (0.12004 38.83481)\n",
      "\n",
      "[1099 rows x 3 columns]\n",
      "amenity_way.shp is empty\n"
     ]
    }
   ],
   "source": [
    "# create path\n",
    "path_rawdata_mainland = cwd + '\\\\raw\\Spain_Mainland_OSM_210101_FME'\n",
    "print(path_rawdata_mainland)\n",
    "\n",
    "for file in glob(path_rawdata_mainland + '/' + 'amenity_*.shp'):\n",
    "    # get file name #remove place_\n",
    "    file_name = os.path.basename(file)\n",
    "    dataSrc = gpd.read_file(file)\n",
    "    new_shp = dataSrc[dataSrc['amenity'] =='charging_station']\n",
    "    if new_shp.empty == True:\n",
    "        print(file_name + ' is empty')\n",
    "        continue\n",
    "    else:\n",
    "        new_shp.to_file(cwd + '/interim/' + 'M2_filtereddata_spain_mainland_03112022/' + file_name)\n",
    "    print(new_shp)"
   ]
  },
  {
   "cell_type": "code",
   "execution_count": 5,
   "metadata": {},
   "outputs": [
    {
     "name": "stdout",
     "output_type": "stream",
     "text": [
      "c:\\Users\\rensw\\OneDrive - Universiteit Utrecht\\GIMA\\Thesis - Buitenland\\Thesis\\Data\\Raw_data\\M2\\raw\\Spain_CanaryIslands_OSM_210101_FME\n",
      "amenity_area.shp\n",
      "amenity_area.shp is empty\n",
      "amenity_node.shp\n",
      "amenity_node.shp contains data\n",
      "                       name           amenity                    geometry\n",
      "1936                   None  charging_station  POINT (-16.25685 28.45921)\n",
      "9381                   None  charging_station  POINT (-17.91582 27.80821)\n",
      "9382         LLanos Blancos  charging_station  POINT (-17.90778 27.77737)\n",
      "9801                   None  charging_station  POINT (-13.46246 29.13206)\n",
      "10856                  None  charging_station  POINT (-16.45701 28.44844)\n",
      "10857                  None  charging_station  POINT (-16.45702 28.44841)\n",
      "11292                  None  charging_station  POINT (-16.48958 28.42690)\n",
      "11675                  None  charging_station  POINT (-16.73453 28.07802)\n",
      "15166                  None  charging_station  POINT (-16.32180 28.48208)\n",
      "16688                  None  charging_station  POINT (-17.94566 28.65136)\n",
      "17107                  None  charging_station  POINT (-15.58360 28.10947)\n",
      "17108                  None  charging_station  POINT (-15.57572 28.05064)\n",
      "17395                  None  charging_station  POINT (-17.10738 28.08936)\n",
      "18211                  None  charging_station  POINT (-16.54849 28.41778)\n",
      "18625                  None  charging_station  POINT (-15.59951 28.00695)\n",
      "18839                  None  charging_station  POINT (-16.37002 28.35511)\n",
      "18929  Avenida Las Palmeras  charging_station  POINT (-16.43325 28.48046)\n",
      "18931              Botanico  charging_station  POINT (-16.53575 28.41185)\n",
      "18951           ChargePoint  charging_station  POINT (-16.55107 28.41702)\n",
      "18952           ChargePoint  charging_station  POINT (-16.55331 28.41031)\n",
      "20116                  None  charging_station  POINT (-15.54143 27.91266)\n",
      "20490                  None  charging_station  POINT (-17.76563 28.68135)\n",
      "21200                  None  charging_station  POINT (-15.45075 27.84396)\n",
      "21350                  None  charging_station  POINT (-16.31453 28.49119)\n",
      "21422                  None  charging_station  POINT (-13.86153 28.49885)\n",
      "21525                  None  charging_station  POINT (-16.55889 28.41228)\n",
      "amenity_way.shp\n",
      "amenity_way.shp is empty\n"
     ]
    },
    {
     "name": "stderr",
     "output_type": "stream",
     "text": [
      "c:\\Users\\rensw\\miniconda3\\envs\\pcraster\\lib\\site-packages\\geopandas\\io\\file.py:362: FutureWarning: pandas.Int64Index is deprecated and will be removed from pandas in a future version. Use pandas.Index with the appropriate dtype instead.\n",
      "  pd.Int64Index,\n"
     ]
    }
   ],
   "source": [
    "# create path\n",
    "path_rawdata_canary = cwd + '\\\\raw\\Spain_CanaryIslands_OSM_210101_FME'\n",
    "print(path_rawdata_canary)\n",
    "\n",
    "# filter on key:tag combination in datasets and skip dataset if now value could be found (df == empty)\n",
    "for file in glob(path_rawdata_canary + '/' + 'amenity_*.shp'):\n",
    "    # get file name \n",
    "    file_name = os.path.basename(file)\n",
    "    print(file_name)\n",
    "    dataSrc = gpd.read_file(file)\n",
    "    new_shp = dataSrc[dataSrc['amenity'] =='charging_station']\n",
    "    if new_shp.empty == True:\n",
    "        print(file_name + ' is empty')\n",
    "        continue\n",
    "    else:\n",
    "        new_shp.to_file(cwd + '/interim' + '/M2_filtereddata_spain_canary_03112022/' + file_name)\n",
    "        print(file_name + ' contains data')\n",
    "    print(new_shp)"
   ]
  }
 ],
 "metadata": {
  "kernelspec": {
   "display_name": "Python 3.9.10",
   "language": "python",
   "name": "python3"
  },
  "language_info": {
   "codemirror_mode": {
    "name": "ipython",
    "version": 3
   },
   "file_extension": ".py",
   "mimetype": "text/x-python",
   "name": "python",
   "nbconvert_exporter": "python",
   "pygments_lexer": "ipython3",
   "version": "3.9.10"
  },
  "orig_nbformat": 4,
  "vscode": {
   "interpreter": {
    "hash": "61091f059b156ff61f5c25e7d74939e877fba054d7631de962b93c89f1908afa"
   }
  }
 },
 "nbformat": 4,
 "nbformat_minor": 2
}
