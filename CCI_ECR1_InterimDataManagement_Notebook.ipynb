{
 "cells": [
  {
   "cell_type": "code",
   "execution_count": 112,
   "metadata": {},
   "outputs": [],
   "source": [
    "# importing the required modules\n",
    "from IPython.display import display\n",
    "import pandas as pd\n",
    "import os\n",
    "from datetime import datetime "
   ]
  },
  {
   "cell_type": "code",
   "execution_count": 113,
   "metadata": {},
   "outputs": [
    {
     "name": "stdout",
     "output_type": "stream",
     "text": [
      "Current working directory: c:\\Users\\rensw\\OneDrive - Universiteit Utrecht\\GIMA\\Thesis - Buitenland\\Thesis\\Data\\Raw_data\\ECR1\n"
     ]
    }
   ],
   "source": [
    "# Get the current working directory\n",
    "cwd = os.getcwd()\n",
    "\n",
    "# Print the current working directory\n",
    "print(\"Current working directory: {0}\".format(cwd))"
   ]
  },
  {
   "cell_type": "markdown",
   "metadata": {},
   "source": [
    "## Raw Data Management --> Interim Data"
   ]
  },
  {
   "cell_type": "code",
   "execution_count": 114,
   "metadata": {},
   "outputs": [],
   "source": [
    "# Remove old version\n",
    "#os.remove(cwd + '/interim/ECR1_interimdata_27102022.csv')\n",
    "#os.remove(cwd + '/interim/ECR1_interimdata_27102022.xlsx')"
   ]
  },
  {
   "cell_type": "code",
   "execution_count": 115,
   "metadata": {},
   "outputs": [
    {
     "data": {
      "text/html": [
       "<div>\n",
       "<style scoped>\n",
       "    .dataframe tbody tr th:only-of-type {\n",
       "        vertical-align: middle;\n",
       "    }\n",
       "\n",
       "    .dataframe tbody tr th {\n",
       "        vertical-align: top;\n",
       "    }\n",
       "\n",
       "    .dataframe thead th {\n",
       "        text-align: right;\n",
       "    }\n",
       "</style>\n",
       "<table border=\"1\" class=\"dataframe\">\n",
       "  <thead>\n",
       "    <tr style=\"text-align: right;\">\n",
       "      <th></th>\n",
       "      <th>Signatories</th>\n",
       "      <th>Population</th>\n",
       "      <th>Commitments</th>\n",
       "      <th>Status</th>\n",
       "      <th>Adhesion date</th>\n",
       "    </tr>\n",
       "  </thead>\n",
       "  <tbody>\n",
       "    <tr>\n",
       "      <th>0</th>\n",
       "      <td>LA MOHEDA DE GATA, ES</td>\n",
       "      <td>619</td>\n",
       "      <td></td>\n",
       "      <td>NaN</td>\n",
       "      <td>2022</td>\n",
       "    </tr>\n",
       "    <tr>\n",
       "      <th>1</th>\n",
       "      <td>GATA, ES</td>\n",
       "      <td>794</td>\n",
       "      <td></td>\n",
       "      <td>NaN</td>\n",
       "      <td>2022</td>\n",
       "    </tr>\n",
       "    <tr>\n",
       "      <th>2</th>\n",
       "      <td>VILLANUEVA DE LA SIERRA, ES</td>\n",
       "      <td>470</td>\n",
       "      <td></td>\n",
       "      <td>NaN</td>\n",
       "      <td>2022</td>\n",
       "    </tr>\n",
       "    <tr>\n",
       "      <th>3</th>\n",
       "      <td>HOYOS, ES</td>\n",
       "      <td>882</td>\n",
       "      <td></td>\n",
       "      <td>NaN</td>\n",
       "      <td>2022</td>\n",
       "    </tr>\n",
       "    <tr>\n",
       "      <th>4</th>\n",
       "      <td>Barcarrota, ES</td>\n",
       "      <td>3580</td>\n",
       "      <td></td>\n",
       "      <td>NaN</td>\n",
       "      <td>2022</td>\n",
       "    </tr>\n",
       "    <tr>\n",
       "      <th>...</th>\n",
       "      <td>...</td>\n",
       "      <td>...</td>\n",
       "      <td>...</td>\n",
       "      <td>...</td>\n",
       "      <td>...</td>\n",
       "    </tr>\n",
       "    <tr>\n",
       "      <th>2891</th>\n",
       "      <td>Gargantilla del Lozoya y Pinilla de Buitrago, ES</td>\n",
       "      <td>369</td>\n",
       "      <td>NaN</td>\n",
       "      <td>NaN</td>\n",
       "      <td>2008</td>\n",
       "    </tr>\n",
       "    <tr>\n",
       "      <th>2892</th>\n",
       "      <td>Torrelodones, ES</td>\n",
       "      <td>21781</td>\n",
       "      <td>NaN</td>\n",
       "      <td>NaN</td>\n",
       "      <td>2008</td>\n",
       "    </tr>\n",
       "    <tr>\n",
       "      <th>2893</th>\n",
       "      <td>Los Corrales, ES</td>\n",
       "      <td>4080</td>\n",
       "      <td>NaN</td>\n",
       "      <td>NaN</td>\n",
       "      <td>2008</td>\n",
       "    </tr>\n",
       "    <tr>\n",
       "      <th>2894</th>\n",
       "      <td>Puerto Lumbreras, ES</td>\n",
       "      <td>14000</td>\n",
       "      <td></td>\n",
       "      <td>NaN</td>\n",
       "      <td>2008</td>\n",
       "    </tr>\n",
       "    <tr>\n",
       "      <th>2895</th>\n",
       "      <td>Santander, ES</td>\n",
       "      <td>182700</td>\n",
       "      <td>NaN</td>\n",
       "      <td>NaN</td>\n",
       "      <td>2008</td>\n",
       "    </tr>\n",
       "  </tbody>\n",
       "</table>\n",
       "<p>2896 rows × 5 columns</p>\n",
       "</div>"
      ],
      "text/plain": [
       "                                           Signatories  Population  \\\n",
       "0                                LA MOHEDA DE GATA, ES         619   \n",
       "1                                             GATA, ES         794   \n",
       "2                          VILLANUEVA DE LA SIERRA, ES         470   \n",
       "3                                            HOYOS, ES         882   \n",
       "4                                       Barcarrota, ES        3580   \n",
       "...                                                ...         ...   \n",
       "2891  Gargantilla del Lozoya y Pinilla de Buitrago, ES         369   \n",
       "2892                                  Torrelodones, ES       21781   \n",
       "2893                                  Los Corrales, ES        4080   \n",
       "2894                              Puerto Lumbreras, ES       14000   \n",
       "2895                                     Santander, ES      182700   \n",
       "\n",
       "     Commitments  Status  Adhesion date  \n",
       "0                    NaN           2022  \n",
       "1                    NaN           2022  \n",
       "2                    NaN           2022  \n",
       "3                    NaN           2022  \n",
       "4                    NaN           2022  \n",
       "...          ...     ...            ...  \n",
       "2891         NaN     NaN           2008  \n",
       "2892         NaN     NaN           2008  \n",
       "2893         NaN     NaN           2008  \n",
       "2894                 NaN           2008  \n",
       "2895         NaN     NaN           2008  \n",
       "\n",
       "[2896 rows x 5 columns]"
      ]
     },
     "execution_count": 115,
     "metadata": {},
     "output_type": "execute_result"
    }
   ],
   "source": [
    "# read the raw excel file from the url\n",
    "excelFile = pd.ExcelFile(cwd + '/raw/ECR1_rawdata_13102022.xlsx')\n",
    "df = pd.read_excel(excelFile)\n",
    "df"
   ]
  },
  {
   "cell_type": "code",
   "execution_count": 116,
   "metadata": {},
   "outputs": [
    {
     "data": {
      "text/plain": [
       "['Signatories', 'Population', 'Commitments', 'Status', 'Adhesion date']"
      ]
     },
     "execution_count": 116,
     "metadata": {},
     "output_type": "execute_result"
    }
   ],
   "source": [
    "# List headers of columns to check raw data set\n",
    "list(df.columns)"
   ]
  },
  {
   "cell_type": "code",
   "execution_count": 117,
   "metadata": {},
   "outputs": [
    {
     "data": {
      "text/html": [
       "<div>\n",
       "<style scoped>\n",
       "    .dataframe tbody tr th:only-of-type {\n",
       "        vertical-align: middle;\n",
       "    }\n",
       "\n",
       "    .dataframe tbody tr th {\n",
       "        vertical-align: top;\n",
       "    }\n",
       "\n",
       "    .dataframe thead th {\n",
       "        text-align: right;\n",
       "    }\n",
       "</style>\n",
       "<table border=\"1\" class=\"dataframe\">\n",
       "  <thead>\n",
       "    <tr style=\"text-align: right;\">\n",
       "      <th></th>\n",
       "      <th>Signatories</th>\n",
       "    </tr>\n",
       "  </thead>\n",
       "  <tbody>\n",
       "    <tr>\n",
       "      <th>0</th>\n",
       "      <td>LA MOHEDA DE GATA, ES</td>\n",
       "    </tr>\n",
       "    <tr>\n",
       "      <th>1</th>\n",
       "      <td>GATA, ES</td>\n",
       "    </tr>\n",
       "    <tr>\n",
       "      <th>2</th>\n",
       "      <td>VILLANUEVA DE LA SIERRA, ES</td>\n",
       "    </tr>\n",
       "    <tr>\n",
       "      <th>3</th>\n",
       "      <td>HOYOS, ES</td>\n",
       "    </tr>\n",
       "    <tr>\n",
       "      <th>4</th>\n",
       "      <td>Barcarrota, ES</td>\n",
       "    </tr>\n",
       "    <tr>\n",
       "      <th>...</th>\n",
       "      <td>...</td>\n",
       "    </tr>\n",
       "    <tr>\n",
       "      <th>2891</th>\n",
       "      <td>Gargantilla del Lozoya y Pinilla de Buitrago, ES</td>\n",
       "    </tr>\n",
       "    <tr>\n",
       "      <th>2892</th>\n",
       "      <td>Torrelodones, ES</td>\n",
       "    </tr>\n",
       "    <tr>\n",
       "      <th>2893</th>\n",
       "      <td>Los Corrales, ES</td>\n",
       "    </tr>\n",
       "    <tr>\n",
       "      <th>2894</th>\n",
       "      <td>Puerto Lumbreras, ES</td>\n",
       "    </tr>\n",
       "    <tr>\n",
       "      <th>2895</th>\n",
       "      <td>Santander, ES</td>\n",
       "    </tr>\n",
       "  </tbody>\n",
       "</table>\n",
       "<p>2896 rows × 1 columns</p>\n",
       "</div>"
      ],
      "text/plain": [
       "                                           Signatories\n",
       "0                                LA MOHEDA DE GATA, ES\n",
       "1                                             GATA, ES\n",
       "2                          VILLANUEVA DE LA SIERRA, ES\n",
       "3                                            HOYOS, ES\n",
       "4                                       Barcarrota, ES\n",
       "...                                                ...\n",
       "2891  Gargantilla del Lozoya y Pinilla de Buitrago, ES\n",
       "2892                                  Torrelodones, ES\n",
       "2893                                  Los Corrales, ES\n",
       "2894                              Puerto Lumbreras, ES\n",
       "2895                                     Santander, ES\n",
       "\n",
       "[2896 rows x 1 columns]"
      ]
     },
     "execution_count": 117,
     "metadata": {},
     "output_type": "execute_result"
    }
   ],
   "source": [
    "# filter columns that refer to 'cobertura 30Mpbs' (see leyenda)\n",
    "df = df[['Signatories']]\n",
    "df"
   ]
  },
  {
   "cell_type": "code",
   "execution_count": 118,
   "metadata": {},
   "outputs": [
    {
     "name": "stderr",
     "output_type": "stream",
     "text": [
      "C:\\Users\\rensw\\AppData\\Local\\Temp\\ipykernel_25640\\2969287219.py:2: SettingWithCopyWarning: \n",
      "A value is trying to be set on a copy of a slice from a DataFrame.\n",
      "Try using .loc[row_indexer,col_indexer] = value instead\n",
      "\n",
      "See the caveats in the documentation: https://pandas.pydata.org/pandas-docs/stable/user_guide/indexing.html#returning-a-view-versus-a-copy\n",
      "  df['Municipalities_Signed_CovenantofMayors'] = df['Signatories'].str.replace(r', ES', '').str.title()\n"
     ]
    }
   ],
   "source": [
    "# remove 'ES' from values and title-format to values\n",
    "df['Municipalities_Signed_CovenantofMayors'] = df['Signatories'].str.replace(r', ES', '').str.title()\n",
    "df = df['Municipalities_Signed_CovenantofMayors']"
   ]
  },
  {
   "cell_type": "code",
   "execution_count": 119,
   "metadata": {},
   "outputs": [],
   "source": [
    "# exports the dataframe into csv file with\n",
    "folder = 'interim'\n",
    "file_name = 'ECR1_interimdata'\n",
    "date = datetime.now().strftime(\"%d%m%Y\")\n",
    "data_format = '.csv'\n",
    "\n",
    "export_name = '/' + folder + '/' + file_name + '_' + date + data_format\n",
    "\n",
    "df.to_csv(cwd + export_name, index=False)"
   ]
  },
  {
   "cell_type": "code",
   "execution_count": 120,
   "metadata": {},
   "outputs": [],
   "source": [
    "# exports the dataframe into excel file with\n",
    "folder = 'interim'\n",
    "file_name = 'ECR1_interimdata' \n",
    "date = datetime.now().strftime(\"%d%m%Y\")\n",
    "data_format = '.xlsx'\n",
    "\n",
    "export_name = '/' + folder + '/' + file_name + '_' + date + data_format\n",
    "\n",
    "df.to_excel(cwd + export_name, index=False)"
   ]
  }
 ],
 "metadata": {
  "kernelspec": {
   "display_name": "Python 3.9.10",
   "language": "python",
   "name": "python3"
  },
  "language_info": {
   "codemirror_mode": {
    "name": "ipython",
    "version": 3
   },
   "file_extension": ".py",
   "mimetype": "text/x-python",
   "name": "python",
   "nbconvert_exporter": "python",
   "pygments_lexer": "ipython3",
   "version": "3.9.10"
  },
  "orig_nbformat": 4,
  "vscode": {
   "interpreter": {
    "hash": "61091f059b156ff61f5c25e7d74939e877fba054d7631de962b93c89f1908afa"
   }
  }
 },
 "nbformat": 4,
 "nbformat_minor": 2
}
