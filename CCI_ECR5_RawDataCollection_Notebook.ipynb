{
 "cells": [
  {
   "cell_type": "code",
   "execution_count": 1,
   "metadata": {},
   "outputs": [],
   "source": [
    "# importing the required modules\n",
    "from IPython.display import display\n",
    "import os\n",
    "from os import path\n",
    "from zipfile import ZipFile\n",
    "import shutil\n",
    "import urllib"
   ]
  },
  {
   "cell_type": "code",
   "execution_count": 2,
   "metadata": {},
   "outputs": [
    {
     "name": "stdout",
     "output_type": "stream",
     "text": [
      "Current working directory: c:\\Users\\rensw\\OneDrive - Universiteit Utrecht\\GIMA\\Thesis - Buitenland\\Thesis\\Data\\Raw_data\\ECR5\n"
     ]
    }
   ],
   "source": [
    "# Get the current working directory\n",
    "cwd = os.getcwd()\n",
    "\n",
    "# Print the current working directory\n",
    "print(\"Current working directory: {0}\".format(cwd))"
   ]
  },
  {
   "cell_type": "code",
   "execution_count": 3,
   "metadata": {},
   "outputs": [],
   "source": [
    "# Remove old version\n",
    "#os.remove(cwd + '/interim/ECR5_interimdata_03112022.csv')\n",
    "#os.remove(cwd + '/interim/ECR5_interimdata_03112022.xlsx')"
   ]
  },
  {
   "cell_type": "code",
   "execution_count": 4,
   "metadata": {},
   "outputs": [
    {
     "data": {
      "text/plain": [
       "('c:\\\\Users\\\\rensw\\\\OneDrive - Universiteit Utrecht\\\\GIMA\\\\Thesis - Buitenland\\\\Thesis\\\\Data\\\\Raw_data\\\\ECR5/raw/ECR5_rawdata_03112022.zip',\n",
       " <http.client.HTTPMessage at 0x271f834f430>)"
      ]
     },
     "metadata": {},
     "output_type": "display_data"
    }
   ],
   "source": [
    "# read the zip folder from the url and save in raw folder map (ECR5)\n",
    "outfilename = \"AQ_2019_shape-files.zip\"\n",
    "url_of_file = \"https://cmshare.eea.europa.eu/s/3QWD6oAkoe8JGpj/download/AQ_2019_shape-files.zip\"\n",
    "zipfilename = 'ECR5_rawdata_03112022.zip'\n",
    "raw_folder = 'raw'\n",
    "path_zip_folder = cwd + '/' + raw_folder + '/' + zipfilename\n",
    "file = urllib.request.urlretrieve(url_of_file, path_zip_folder) \n",
    "display(file)"
   ]
  },
  {
   "cell_type": "code",
   "execution_count": 5,
   "metadata": {},
   "outputs": [
    {
     "name": "stdout",
     "output_type": "stream",
     "text": [
      "c:\\Users\\rensw\\OneDrive - Universiteit Utrecht\\GIMA\\Thesis - Buitenland\\Thesis\\Data\\Raw_data\\ECR5/raw/ECR5_rawdata_03112022.zip\n"
     ]
    }
   ],
   "source": [
    "print(path_zip_folder)"
   ]
  },
  {
   "cell_type": "code",
   "execution_count": 6,
   "metadata": {},
   "outputs": [],
   "source": [
    "# Unpack raw zipfolder\n",
    "zip = ZipFile(path_zip_folder)\n",
    "zip.extractall(cwd + '/' + raw_folder)"
   ]
  },
  {
   "cell_type": "code",
   "execution_count": 7,
   "metadata": {},
   "outputs": [
    {
     "name": "stdout",
     "output_type": "stream",
     "text": [
      "c:\\Users\\rensw\\OneDrive - Universiteit Utrecht\\GIMA\\Thesis - Buitenland\\Thesis\\Data\\Raw_data\\ECR5/raw/AQ_2019_shape-files\n",
      "c:\\Users\\rensw\\OneDrive - Universiteit Utrecht\\GIMA\\Thesis - Buitenland\\Thesis\\Data\\Raw_data\\ECR5/raw/AQ_2019_shape-files/NOx\n",
      "Copied\n"
     ]
    }
   ],
   "source": [
    "# create a path variable for the unpacked zipfolder\n",
    "raw_extracted_folder = 'AQ_2019_shape-files'\n",
    "path_raw_extracted_folder = cwd + '/' + raw_folder + '/' + raw_extracted_folder\n",
    "print(path_raw_extracted_folder)\n",
    "\n",
    "# create a path variable for the PM10 data in the unpacked zipfolder\n",
    "NOx_folder = 'NOx'\n",
    "path_NOx_folder = path_raw_extracted_folder + '/' + NOx_folder\n",
    "print(path_NOx_folder)\n",
    "\n",
    "src_path = path_raw_extracted_folder + '/' + 'Note_On_AQ2019_Datasets.txt'\n",
    "dst_path = cwd + '/' + raw_folder + '/' + 'ECR5_rawdata_metadata_03112022.txt'\n",
    "shutil.copy(src_path, dst_path)\n",
    "print('Copied')"
   ]
  },
  {
   "cell_type": "code",
   "execution_count": 8,
   "metadata": {},
   "outputs": [],
   "source": [
    "# THIS MUST ME SCRIPTED MORE COMPACT\n",
    "# create a path variable for the each useless folder in the unpacked zipfolder\n",
    "interp_1 = 'Interpolated-data-1km-grid'\n",
    "interp_2 = 'Interpolated-data-2km-grid'\n",
    "NO2 = 'NO2'\n",
    "O3 = 'O3'\n",
    "PM10 = 'PM10'\n",
    "PM25 = 'PM25'\n",
    "POD6 = 'POD6'\n",
    "\n",
    "path_interp_1_folder = path_raw_extracted_folder + '/' + interp_1\n",
    "path_interp_2_folder = path_raw_extracted_folder + '/' + interp_2\n",
    "path_NO2_folder = path_raw_extracted_folder + '/' + NO2\n",
    "path_O3_folder = path_raw_extracted_folder + '/' + O3\n",
    "path_PM10_folder = path_raw_extracted_folder + '/' + PM10\n",
    "path_PM25_folder = path_raw_extracted_folder + '/' + PM25\n",
    "path_POD6_folder = path_raw_extracted_folder + '/' + POD6\n",
    "\n",
    "# delete useless folders in unpacked zipfolder\n",
    "shutil.rmtree(path_interp_1_folder, ignore_errors=False, onerror=None)\n",
    "shutil.rmtree(path_interp_2_folder, ignore_errors=False, onerror=None)\n",
    "shutil.rmtree(path_NO2_folder, ignore_errors=False, onerror=None)\n",
    "shutil.rmtree(path_O3_folder, ignore_errors=False, onerror=None)\n",
    "shutil.rmtree(path_PM10_folder, ignore_errors=False, onerror=None)\n",
    "shutil.rmtree(path_PM25_folder, ignore_errors=False, onerror=None)\n",
    "shutil.rmtree(path_POD6_folder, ignore_errors=False, onerror=None)"
   ]
  }
 ],
 "metadata": {
  "kernelspec": {
   "display_name": "Python 3.9.10",
   "language": "python",
   "name": "python3"
  },
  "language_info": {
   "codemirror_mode": {
    "name": "ipython",
    "version": 3
   },
   "file_extension": ".py",
   "mimetype": "text/x-python",
   "name": "python",
   "nbconvert_exporter": "python",
   "pygments_lexer": "ipython3",
   "version": "3.9.10"
  },
  "orig_nbformat": 4,
  "vscode": {
   "interpreter": {
    "hash": "61091f059b156ff61f5c25e7d74939e877fba054d7631de962b93c89f1908afa"
   }
  }
 },
 "nbformat": 4,
 "nbformat_minor": 2
}
