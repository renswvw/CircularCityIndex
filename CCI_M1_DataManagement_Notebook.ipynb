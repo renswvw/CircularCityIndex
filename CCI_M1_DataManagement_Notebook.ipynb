{
 "cells": [
  {
   "cell_type": "code",
   "execution_count": 1,
   "metadata": {},
   "outputs": [],
   "source": [
    "# importing the required modules\n",
    "import os\n",
    "import geopandas as gpd\n",
    "from glob import glob"
   ]
  },
  {
   "cell_type": "code",
   "execution_count": 5,
   "metadata": {},
   "outputs": [
    {
     "name": "stdout",
     "output_type": "stream",
     "text": [
      "Current working directory: c:\\Users\\rensw\\OneDrive - Universiteit Utrecht\\GIMA\\Thesis - Buitenland\\Thesis\\Data\\Raw_data\\M1\n"
     ]
    }
   ],
   "source": [
    "# Get the current working directory\n",
    "cwd = os.getcwd()\n",
    "\n",
    "# Print the current working directory\n",
    "print(\"Current working directory: {0}\".format(cwd))"
   ]
  },
  {
   "cell_type": "markdown",
   "metadata": {},
   "source": [
    "## Filter datasets from Place, Highway and Leisure"
   ]
  },
  {
   "cell_type": "code",
   "execution_count": 2,
   "metadata": {},
   "outputs": [],
   "source": [
    "# create new folders\n",
    "#os.makedirs(cwd + '/interim/M1_filtereddata_spain_mainland_03112022')\n",
    "#os.makedirs(cwd + '/interim/M1_filtereddata_canary_mainland_03112022')"
   ]
  },
  {
   "cell_type": "code",
   "execution_count": 11,
   "metadata": {},
   "outputs": [
    {
     "name": "stdout",
     "output_type": "stream",
     "text": [
      "c:\\Users\\rensw\\OneDrive - Universiteit Utrecht\\GIMA\\Thesis - Buitenland\\Thesis\\Data\\Raw_data\\M1\\raw\\Spain_Mainland_OSM_210101_FME\n"
     ]
    },
    {
     "name": "stderr",
     "output_type": "stream",
     "text": [
      "c:\\Users\\rensw\\miniconda3\\envs\\pcraster\\lib\\site-packages\\geopandas\\io\\file.py:362: FutureWarning: pandas.Int64Index is deprecated and will be removed from pandas in a future version. Use pandas.Index with the appropriate dtype instead.\n",
      "  pd.Int64Index,\n"
     ]
    },
    {
     "name": "stdout",
     "output_type": "stream",
     "text": [
      "None\n"
     ]
    },
    {
     "name": "stderr",
     "output_type": "stream",
     "text": [
      "c:\\Users\\rensw\\miniconda3\\envs\\pcraster\\lib\\site-packages\\geopandas\\io\\file.py:362: FutureWarning: pandas.Int64Index is deprecated and will be removed from pandas in a future version. Use pandas.Index with the appropriate dtype instead.\n",
      "  pd.Int64Index,\n"
     ]
    },
    {
     "name": "stdout",
     "output_type": "stream",
     "text": [
      "None\n"
     ]
    },
    {
     "name": "stderr",
     "output_type": "stream",
     "text": [
      "c:\\Users\\rensw\\miniconda3\\envs\\pcraster\\lib\\site-packages\\geopandas\\io\\file.py:362: FutureWarning: pandas.Int64Index is deprecated and will be removed from pandas in a future version. Use pandas.Index with the appropriate dtype instead.\n",
      "  pd.Int64Index,\n"
     ]
    },
    {
     "name": "stdout",
     "output_type": "stream",
     "text": [
      "None\n"
     ]
    },
    {
     "name": "stderr",
     "output_type": "stream",
     "text": [
      "c:\\Users\\rensw\\miniconda3\\envs\\pcraster\\lib\\site-packages\\geopandas\\io\\file.py:362: FutureWarning: pandas.Int64Index is deprecated and will be removed from pandas in a future version. Use pandas.Index with the appropriate dtype instead.\n",
      "  pd.Int64Index,\n"
     ]
    },
    {
     "name": "stdout",
     "output_type": "stream",
     "text": [
      "None\n"
     ]
    },
    {
     "name": "stderr",
     "output_type": "stream",
     "text": [
      "c:\\Users\\rensw\\miniconda3\\envs\\pcraster\\lib\\site-packages\\geopandas\\io\\file.py:362: FutureWarning: pandas.Int64Index is deprecated and will be removed from pandas in a future version. Use pandas.Index with the appropriate dtype instead.\n",
      "  pd.Int64Index,\n"
     ]
    },
    {
     "name": "stdout",
     "output_type": "stream",
     "text": [
      "None\n"
     ]
    },
    {
     "name": "stderr",
     "output_type": "stream",
     "text": [
      "c:\\Users\\rensw\\miniconda3\\envs\\pcraster\\lib\\site-packages\\geopandas\\io\\file.py:362: FutureWarning: pandas.Int64Index is deprecated and will be removed from pandas in a future version. Use pandas.Index with the appropriate dtype instead.\n",
      "  pd.Int64Index,\n"
     ]
    },
    {
     "name": "stdout",
     "output_type": "stream",
     "text": [
      "None\n"
     ]
    },
    {
     "name": "stderr",
     "output_type": "stream",
     "text": [
      "c:\\Users\\rensw\\miniconda3\\envs\\pcraster\\lib\\site-packages\\geopandas\\io\\file.py:362: FutureWarning: pandas.Int64Index is deprecated and will be removed from pandas in a future version. Use pandas.Index with the appropriate dtype instead.\n",
      "  pd.Int64Index,\n"
     ]
    },
    {
     "name": "stdout",
     "output_type": "stream",
     "text": [
      "None\n"
     ]
    },
    {
     "name": "stderr",
     "output_type": "stream",
     "text": [
      "c:\\Users\\rensw\\miniconda3\\envs\\pcraster\\lib\\site-packages\\geopandas\\io\\file.py:362: FutureWarning: pandas.Int64Index is deprecated and will be removed from pandas in a future version. Use pandas.Index with the appropriate dtype instead.\n",
      "  pd.Int64Index,\n"
     ]
    },
    {
     "name": "stdout",
     "output_type": "stream",
     "text": [
      "None\n"
     ]
    },
    {
     "name": "stderr",
     "output_type": "stream",
     "text": [
      "c:\\Users\\rensw\\miniconda3\\envs\\pcraster\\lib\\site-packages\\geopandas\\io\\file.py:362: FutureWarning: pandas.Int64Index is deprecated and will be removed from pandas in a future version. Use pandas.Index with the appropriate dtype instead.\n",
      "  pd.Int64Index,\n"
     ]
    },
    {
     "name": "stdout",
     "output_type": "stream",
     "text": [
      "None\n",
      "None\n"
     ]
    },
    {
     "name": "stderr",
     "output_type": "stream",
     "text": [
      "c:\\Users\\rensw\\miniconda3\\envs\\pcraster\\lib\\site-packages\\geopandas\\io\\file.py:362: FutureWarning: pandas.Int64Index is deprecated and will be removed from pandas in a future version. Use pandas.Index with the appropriate dtype instead.\n",
      "  pd.Int64Index,\n"
     ]
    }
   ],
   "source": [
    "# create path \n",
    "path_rawdata_mainland = cwd + '\\\\raw\\Spain_Mainland_OSM_210101_FME'\n",
    "print(path_rawdata_mainland)\n",
    "\n",
    "# filter on key:tag combination in datasets\n",
    "for file in glob(path_rawdata_mainland + '/' + 'place_*.shp'):\n",
    "    # get file name\n",
    "    file_name = os.path.basename(file)\n",
    "    dataSrc = gpd.read_file(file)\n",
    "    new_shp = dataSrc[dataSrc['place'] =='square'].to_file(cwd + '/interim/' + 'M1_filtereddata_spain_mainland_03112022/' + file_name)\n",
    "    print(new_shp)\n",
    "\n",
    "for file in glob(path_rawdata_mainland + '/' + 'highway_*.shp'):\n",
    "    # get file name\n",
    "    file_name = os.path.basename(file)\n",
    "    dataSrc = gpd.read_file(file)\n",
    "    new_shp_path = dataSrc[dataSrc['highway'] =='path']\n",
    "    new_shp_pedestrian = dataSrc[dataSrc['highway'] =='pedestrian']\n",
    "    new_shp_footway = dataSrc[dataSrc['highway'] =='footway']\n",
    "    new_shp = gpd.pd.concat([new_shp_path, new_shp_pedestrian, new_shp_footway]).to_file(cwd + '/interim/' + 'M1_filtereddata_spain_mainland_03112022/' + file_name)\n",
    "    print(new_shp)\n",
    "\n",
    "for file in glob(path_rawdata_mainland + '/' + 'leisure_*.shp'):\n",
    "    # get file name\n",
    "    file_name = os.path.basename(file)\n",
    "    dataSrc = gpd.read_file(file)\n",
    "    new_shp = dataSrc[dataSrc['leisure']=='park'].to_file(cwd + '/interim/' + 'M1_filtereddata_spain_mainland_03112022/' + file_name)\n",
    "    print(new_shp)"
   ]
  },
  {
   "cell_type": "code",
   "execution_count": 10,
   "metadata": {},
   "outputs": [
    {
     "name": "stdout",
     "output_type": "stream",
     "text": [
      "c:\\Users\\rensw\\OneDrive - Universiteit Utrecht\\GIMA\\Thesis - Buitenland\\Thesis\\Data\\Raw_data\\M1\\raw\\Spain_CanaryIslands_OSM_210101_FME\n"
     ]
    },
    {
     "name": "stderr",
     "output_type": "stream",
     "text": [
      "c:\\Users\\rensw\\miniconda3\\envs\\pcraster\\lib\\site-packages\\geopandas\\io\\file.py:362: FutureWarning: pandas.Int64Index is deprecated and will be removed from pandas in a future version. Use pandas.Index with the appropriate dtype instead.\n",
      "  pd.Int64Index,\n"
     ]
    },
    {
     "name": "stdout",
     "output_type": "stream",
     "text": [
      "                                    name source   place  \\\n",
      "1                        Plaza de España   None  square   \n",
      "2                        Plaza de Europa   None  square   \n",
      "5                Plaza Camino del Hierro   None  square   \n",
      "43                      Plaza Buganvilla   None  square   \n",
      "47   Plaza de la Urbanización Las Torres   None  square   \n",
      "..                                   ...    ...     ...   \n",
      "611                 Plaza de la Hornilla   None  square   \n",
      "612           Plaza de la Villa de Teror   None  square   \n",
      "613                                 None   None  square   \n",
      "614                                 None   None  square   \n",
      "615                     Plaza Cruz Verde   None  square   \n",
      "\n",
      "                                              geometry  \n",
      "1    POLYGON ((-16.24734 28.46831, -16.24719 28.468...  \n",
      "2    POLYGON ((-16.54871 28.41831, -16.54870 28.418...  \n",
      "5    POLYGON ((-16.27587 28.46039, -16.27608 28.460...  \n",
      "43   POLYGON ((-16.84077 28.24402, -16.84077 28.244...  \n",
      "47   POLYGON ((-15.45460 28.11161, -15.45482 28.111...  \n",
      "..                                                 ...  \n",
      "611  POLYGON ((-16.36720 28.36050, -16.36705 28.360...  \n",
      "612  POLYGON ((-16.37134 28.35545, -16.37128 28.355...  \n",
      "613  POLYGON ((-15.39971 28.02392, -15.39957 28.023...  \n",
      "614  POLYGON ((-15.39930 28.02398, -15.39918 28.023...  \n",
      "615  POLYGON ((-16.52131 28.38458, -16.52136 28.384...  \n",
      "\n",
      "[267 rows x 4 columns]\n"
     ]
    },
    {
     "name": "stderr",
     "output_type": "stream",
     "text": [
      "c:\\Users\\rensw\\miniconda3\\envs\\pcraster\\lib\\site-packages\\geopandas\\io\\file.py:362: FutureWarning: pandas.Int64Index is deprecated and will be removed from pandas in a future version. Use pandas.Index with the appropriate dtype instead.\n",
      "  pd.Int64Index,\n"
     ]
    },
    {
     "name": "stdout",
     "output_type": "stream",
     "text": [
      "                            name source   place                    geometry\n",
      "599            Plaza Matías Vega   None  square  POINT (-15.46213 28.06674)\n",
      "2835         Plaza de La Resbala   None  square  POINT (-16.45908 28.43437)\n",
      "3004  Plaza Blas Rosales Batista   None  square  POINT (-15.52730 28.11835)\n",
      "3005      Plaza del Voluntariado   None  square  POINT (-15.52692 28.11857)\n",
      "place_way.shpis empty\n"
     ]
    },
    {
     "name": "stderr",
     "output_type": "stream",
     "text": [
      "c:\\Users\\rensw\\miniconda3\\envs\\pcraster\\lib\\site-packages\\geopandas\\io\\file.py:362: FutureWarning: pandas.Int64Index is deprecated and will be removed from pandas in a future version. Use pandas.Index with the appropriate dtype instead.\n",
      "  pd.Int64Index,\n"
     ]
    },
    {
     "name": "stdout",
     "output_type": "stream",
     "text": [
      "      name  highway                                           geometry\n",
      "651   None     path  POLYGON ((-16.30388 28.56910, -16.30388 28.569...\n",
      "1133   209     path  POLYGON ((-15.59934 27.74759, -15.59941 27.747...\n",
      "1280  None     path  POLYGON ((-15.76037 27.81873, -15.76036 27.818...\n",
      "1285  None     path  POLYGON ((-16.25509 28.45236, -16.25507 28.452...\n",
      "1287  None     path  POLYGON ((-16.48879 28.42803, -16.48881 28.428...\n",
      "...    ...      ...                                                ...\n",
      "1987  None  footway  POLYGON ((-16.53696 28.40759, -16.53686 28.407...\n",
      "1988  None  footway  POLYGON ((-16.53737 28.40820, -16.53725 28.408...\n",
      "1989  None  footway  POLYGON ((-16.53750 28.40840, -16.53738 28.408...\n",
      "2082  None  footway  POLYGON ((-16.64890 28.39417, -16.64889 28.394...\n",
      "2083  None  footway  POLYGON ((-16.64929 28.39306, -16.64920 28.393...\n",
      "\n",
      "[1944 rows x 3 columns]\n"
     ]
    },
    {
     "name": "stderr",
     "output_type": "stream",
     "text": [
      "c:\\Users\\rensw\\miniconda3\\envs\\pcraster\\lib\\site-packages\\geopandas\\io\\file.py:362: FutureWarning: pandas.Int64Index is deprecated and will be removed from pandas in a future version. Use pandas.Index with the appropriate dtype instead.\n",
      "  pd.Int64Index,\n"
     ]
    },
    {
     "name": "stdout",
     "output_type": "stream",
     "text": [
      "       name  highway                    geometry\n",
      "34415  None  footway  POINT (-16.63856 28.15462)\n"
     ]
    },
    {
     "name": "stderr",
     "output_type": "stream",
     "text": [
      "c:\\Users\\rensw\\miniconda3\\envs\\pcraster\\lib\\site-packages\\geopandas\\io\\file.py:362: FutureWarning: pandas.Int64Index is deprecated and will be removed from pandas in a future version. Use pandas.Index with the appropriate dtype instead.\n",
      "  pd.Int64Index,\n"
     ]
    },
    {
     "name": "stdout",
     "output_type": "stream",
     "text": [
      "                         name  highway  \\\n",
      "1015                     None     path   \n",
      "1017                     None     path   \n",
      "1018                     None     path   \n",
      "1026    Barranco del Infierno     path   \n",
      "1053                     None     path   \n",
      "...                       ...      ...   \n",
      "167994                   None  footway   \n",
      "168008                   None  footway   \n",
      "168044                   None  footway   \n",
      "168045                   None  footway   \n",
      "168102                   None  footway   \n",
      "\n",
      "                                                 geometry  \n",
      "1015    LINESTRING (-15.80840 27.92249, -15.80858 27.9...  \n",
      "1017    LINESTRING (-16.63917 28.27421, -16.63914 28.2...  \n",
      "1018    LINESTRING (-16.63889 28.27371, -16.63880 28.2...  \n",
      "1026    LINESTRING (-16.70219 28.13676, -16.70224 28.1...  \n",
      "1053    LINESTRING (-14.01708 28.69228, -14.01697 28.6...  \n",
      "...                                                   ...  \n",
      "167994  LINESTRING (-16.71057 28.36047, -16.71049 28.3...  \n",
      "168008  LINESTRING (-17.77298 28.80306, -17.77290 28.8...  \n",
      "168044  LINESTRING (-17.19132 28.03003, -17.19132 28.0...  \n",
      "168045  LINESTRING (-17.19100 28.03019, -17.19093 28.0...  \n",
      "168102  LINESTRING (-17.74649 28.72244, -17.74645 28.7...  \n",
      "\n",
      "[40230 rows x 3 columns]\n"
     ]
    },
    {
     "name": "stderr",
     "output_type": "stream",
     "text": [
      "c:\\Users\\rensw\\miniconda3\\envs\\pcraster\\lib\\site-packages\\geopandas\\io\\file.py:362: FutureWarning: pandas.Int64Index is deprecated and will be removed from pandas in a future version. Use pandas.Index with the appropriate dtype instead.\n",
      "  pd.Int64Index,\n"
     ]
    },
    {
     "name": "stdout",
     "output_type": "stream",
     "text": [
      "      sport source leisure                                           geometry\n",
      "1      None   None    park  MULTIPOLYGON (((-16.31573 28.49648, -16.31578 ...\n",
      "16     None   None    park  POLYGON ((-16.30545 28.46899, -16.30433 28.470...\n",
      "17     None   None    park  POLYGON ((-16.24734 28.46831, -16.24758 28.468...\n",
      "26     None   None    park  POLYGON ((-16.26994 28.45538, -16.26994 28.455...\n",
      "27     None   None    park  POLYGON ((-16.27329 28.45852, -16.27333 28.458...\n",
      "...     ...    ...     ...                                                ...\n",
      "15646  None   None    park  POLYGON ((-15.40381 28.02383, -15.40362 28.023...\n",
      "15647  None   None    park  POLYGON ((-15.40350 28.02384, -15.40324 28.023...\n",
      "15652  None   None    park  POLYGON ((-16.26501 28.45765, -16.26523 28.457...\n",
      "15653  None   None    park  POLYGON ((-16.75644 28.12945, -16.75643 28.129...\n",
      "15662  None   None    park  POLYGON ((-17.80274 28.81226, -17.80264 28.812...\n",
      "\n",
      "[1242 rows x 4 columns]\n",
      "    sport source leisure                    geometry\n",
      "99   None   None    park  POINT (-15.69594 28.05678)\n",
      "378  None   None    park  POINT (-17.77945 28.66320)\n",
      "389  None   None    park  POINT (-16.61705 28.09721)\n",
      "390  None   None    park  POINT (-16.61715 28.09739)\n",
      "393  None   None    park  POINT (-17.15307 28.13199)\n",
      "394  None   None    park  POINT (-15.43608 28.13393)\n",
      "489  None   None    park  POINT (-13.86626 28.50103)\n",
      "502  None   None    park  POINT (-13.86476 28.48899)\n",
      "504  None   None    park  POINT (-16.56156 28.08162)\n",
      "516  None   None    park  POINT (-15.63322 28.13941)\n",
      "517  None   None    park  POINT (-15.63318 28.13924)\n",
      "518  None   None    park  POINT (-15.63298 28.13941)\n",
      "519  None   None    park  POINT (-15.63306 28.13932)\n",
      "520  None   None    park  POINT (-15.63309 28.13950)\n",
      "521  None   None    park  POINT (-15.63314 28.13927)\n",
      "522  None   None    park  POINT (-15.63274 28.13903)\n",
      "523  None   None    park  POINT (-15.63279 28.13894)\n",
      "524  None   None    park  POINT (-15.63306 28.13906)\n",
      "525  None   None    park  POINT (-15.63301 28.13917)\n",
      "526  None   None    park  POINT (-15.63317 28.13918)\n",
      "527  None   None    park  POINT (-15.66503 28.14289)\n",
      "528  None   None    park  POINT (-15.66464 28.14285)\n",
      "529  None   None    park  POINT (-15.66462 28.14256)\n",
      "530  None   None    park  POINT (-15.66501 28.14257)\n",
      "544  None   None    park  POINT (-15.42986 28.14530)\n",
      "613  None   None    park  POINT (-15.40027 27.85521)\n",
      "672  None   None    park  POINT (-15.63442 28.14015)\n",
      "673  None   None    park  POINT (-15.63427 28.14023)\n",
      "674  None   None    park  POINT (-15.63453 28.14000)\n",
      "675  None   None    park  POINT (-15.63447 28.14006)\n",
      "676  None   None    park  POINT (-15.63433 28.14010)\n",
      "677  None   None    park  POINT (-15.63397 28.14038)\n",
      "678  None   None    park  POINT (-15.63401 28.14008)\n",
      "679  None   None    park  POINT (-15.63397 28.14011)\n",
      "680  None   None    park  POINT (-15.63404 28.14015)\n",
      "696  None   None    park  POINT (-14.13311 28.40185)\n",
      "701  None   None    park  POINT (-17.77843 28.60605)\n",
      "772  None   None    park  POINT (-13.64105 28.92714)\n",
      "794  None   None    park  POINT (-16.72251 28.08488)\n",
      "868  None   None    park  POINT (-15.45082 27.84438)\n",
      "   sport source leisure                                           geometry\n",
      "4   None   None    park  LINESTRING (-15.41880 28.11252, -15.41873 28.1...\n",
      "21  None   None    park  LINESTRING (-16.83781 28.36713, -16.83777 28.3...\n",
      "28  None   None    park  LINESTRING (-16.83753 28.36655, -16.83803 28.3...\n",
      "29  None   None    park  LINESTRING (-15.59783 27.75994, -15.59796 27.7...\n",
      "33  None   None    park  MULTILINESTRING ((-16.81738 28.36567, -16.8174...\n"
     ]
    },
    {
     "name": "stderr",
     "output_type": "stream",
     "text": [
      "c:\\Users\\rensw\\miniconda3\\envs\\pcraster\\lib\\site-packages\\geopandas\\io\\file.py:362: FutureWarning: pandas.Int64Index is deprecated and will be removed from pandas in a future version. Use pandas.Index with the appropriate dtype instead.\n",
      "  pd.Int64Index,\n",
      "c:\\Users\\rensw\\miniconda3\\envs\\pcraster\\lib\\site-packages\\geopandas\\io\\file.py:362: FutureWarning: pandas.Int64Index is deprecated and will be removed from pandas in a future version. Use pandas.Index with the appropriate dtype instead.\n",
      "  pd.Int64Index,\n"
     ]
    }
   ],
   "source": [
    "# create path\n",
    "path_rawdata_canary = cwd + '\\\\raw\\Spain_CanaryIslands_OSM_210101_FME'\n",
    "print(path_rawdata_canary)\n",
    "\n",
    "# filter on key:tag combination in datasets and skip dataset if now value could be found (df == empty)\n",
    "for file in glob(path_rawdata_canary + '/' + 'place_*.shp'):\n",
    "    # get file name #remove place_\n",
    "    file_name = os.path.basename(file)\n",
    "    dataSrc = gpd.read_file(file)\n",
    "    new_shp = dataSrc[dataSrc['place'] =='square']\n",
    "    if new_shp.empty == True:\n",
    "        print(file_name + 'is empty')\n",
    "        continue\n",
    "    else:\n",
    "        new_shp.to_file(cwd + '/interim/' + 'M1_filtereddata_spain_canary_03112022/' + file_name)\n",
    "    print(new_shp)\n",
    "\n",
    "for file in glob(path_rawdata_canary + '/' + 'highway_*.shp'):\n",
    "    # get file name\n",
    "    file_name = os.path.basename(file)\n",
    "    dataSrc = gpd.read_file(file)\n",
    "    new_shp_path = dataSrc[dataSrc['highway'] =='path']\n",
    "    new_shp_pedestrian = dataSrc[dataSrc['highway'] =='pedestrian']\n",
    "    new_shp_footway = dataSrc[dataSrc['highway'] =='footway']\n",
    "    new_shp = gpd.pd.concat([new_shp_path, new_shp_pedestrian, new_shp_footway])\n",
    "    if new_shp.empty == True:\n",
    "        print(file_name + 'is empty')\n",
    "        continue \n",
    "    else:\n",
    "        new_shp.to_file(cwd + '/interim/' + 'M1_filtereddata_spain_canary_03112022/' + file_name)\n",
    "    print(new_shp)\n",
    "\n",
    "for file in glob(path_rawdata_canary + '/' + 'leisure_*.shp'):\n",
    "    # get file name\n",
    "    file_name = os.path.basename(file)\n",
    "    dataSrc = gpd.read_file(file)\n",
    "    new_shp = dataSrc[dataSrc['leisure']=='park']\n",
    "    if new_shp.empty == True:\n",
    "        print(file_name + 'is empty')\n",
    "        continue \n",
    "    else:\n",
    "        new_shp.to_file(cwd + '/interim/' + 'M1_filtereddata_spain_canary_03112022/' + file_name)\n",
    "    print(new_shp)"
   ]
  }
 ],
 "metadata": {
  "kernelspec": {
   "display_name": "Python 3.9.10",
   "language": "python",
   "name": "python3"
  },
  "language_info": {
   "codemirror_mode": {
    "name": "ipython",
    "version": 3
   },
   "file_extension": ".py",
   "mimetype": "text/x-python",
   "name": "python",
   "nbconvert_exporter": "python",
   "pygments_lexer": "ipython3",
   "version": "3.9.10"
  },
  "orig_nbformat": 4,
  "vscode": {
   "interpreter": {
    "hash": "61091f059b156ff61f5c25e7d74939e877fba054d7631de962b93c89f1908afa"
   }
  }
 },
 "nbformat": 4,
 "nbformat_minor": 2
}
