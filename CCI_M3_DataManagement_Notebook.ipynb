{
 "cells": [
  {
   "cell_type": "code",
   "execution_count": 1,
   "metadata": {},
   "outputs": [],
   "source": [
    "# importing the required modules\n",
    "import os\n",
    "import geopandas as gpd\n",
    "from glob import glob"
   ]
  },
  {
   "cell_type": "code",
   "execution_count": 2,
   "metadata": {},
   "outputs": [
    {
     "name": "stdout",
     "output_type": "stream",
     "text": [
      "Current working directory: c:\\Users\\rensw\\OneDrive - Universiteit Utrecht\\GIMA\\Thesis - Buitenland\\Thesis\\Data\\Raw_data\\M3\n"
     ]
    }
   ],
   "source": [
    "# Get the current working directory\n",
    "cwd = os.getcwd()\n",
    "\n",
    "# Print the current working directory\n",
    "print(\"Current working directory: {0}\".format(cwd))"
   ]
  },
  {
   "cell_type": "markdown",
   "metadata": {},
   "source": [
    "## Filter datasets from highway:cycleway"
   ]
  },
  {
   "cell_type": "code",
   "execution_count": 3,
   "metadata": {},
   "outputs": [],
   "source": [
    "# create new folders\n",
    "#os.makedirs(cwd + '/interim/M3_filtereddata_spain_mainland_03112022')\n",
    "#os.makedirs(cwd + '/interim/M3_filtereddata_spain_canary_03112022')"
   ]
  },
  {
   "cell_type": "code",
   "execution_count": 4,
   "metadata": {},
   "outputs": [
    {
     "name": "stdout",
     "output_type": "stream",
     "text": [
      "c:\\Users\\rensw\\OneDrive - Universiteit Utrecht\\GIMA\\Thesis - Buitenland\\Thesis\\Data\\Raw_data\\M3\\raw\\Spain_Mainland_OSM_210101_FME\n"
     ]
    },
    {
     "name": "stderr",
     "output_type": "stream",
     "text": [
      "c:\\Users\\rensw\\miniconda3\\envs\\pcraster\\lib\\site-packages\\geopandas\\io\\file.py:362: FutureWarning: pandas.Int64Index is deprecated and will be removed from pandas in a future version. Use pandas.Index with the appropriate dtype instead.\n",
      "  pd.Int64Index,\n"
     ]
    },
    {
     "name": "stdout",
     "output_type": "stream",
     "text": [
      "                       name   highway  \\\n",
      "5043   Velòdrom del Tirador  cycleway   \n",
      "28267                  None  cycleway   \n",
      "\n",
      "                                                geometry  \n",
      "5043   POLYGON ((2.64432 39.57832, 2.64429 39.57828, ...  \n",
      "28267  POLYGON ((-3.63023 40.41402, -3.63031 40.41401...  \n"
     ]
    },
    {
     "name": "stderr",
     "output_type": "stream",
     "text": [
      "c:\\Users\\rensw\\miniconda3\\envs\\pcraster\\lib\\site-packages\\geopandas\\io\\file.py:362: FutureWarning: pandas.Int64Index is deprecated and will be removed from pandas in a future version. Use pandas.Index with the appropriate dtype instead.\n",
      "  pd.Int64Index,\n"
     ]
    },
    {
     "name": "stdout",
     "output_type": "stream",
     "text": [
      "        name   highway                   geometry\n",
      "659233  None  cycleway  POINT (-8.42002 43.34919)\n"
     ]
    },
    {
     "name": "stderr",
     "output_type": "stream",
     "text": [
      "c:\\Users\\rensw\\miniconda3\\envs\\pcraster\\lib\\site-packages\\geopandas\\io\\file.py:362: FutureWarning: pandas.Int64Index is deprecated and will be removed from pandas in a future version. Use pandas.Index with the appropriate dtype instead.\n",
      "  pd.Int64Index,\n"
     ]
    },
    {
     "name": "stdout",
     "output_type": "stream",
     "text": [
      "                              name   highway  \\\n",
      "834                     Madrid Río  cycleway   \n",
      "2686                          None  cycleway   \n",
      "4294            Pasarela de Moreda  cycleway   \n",
      "5013                          None  cycleway   \n",
      "8431     Via Verda Girona St Feliu  cycleway   \n",
      "...                            ...       ...   \n",
      "4218460                       None  cycleway   \n",
      "4218461                       None  cycleway   \n",
      "4218462                       None  cycleway   \n",
      "4218675                       None  cycleway   \n",
      "4218907                       None  cycleway   \n",
      "\n",
      "                                                  geometry  \n",
      "834      LINESTRING (-3.72282 40.42194, -3.72297 40.42187)  \n",
      "2686     LINESTRING (-3.72233 40.43748, -3.72258 40.437...  \n",
      "4294     LINESTRING (-5.67693 43.53500, -5.67698 43.535...  \n",
      "5013     LINESTRING (-1.98447 43.31888, -1.98444 43.318...  \n",
      "8431       LINESTRING (2.82437 41.97768, 2.82437 41.97774)  \n",
      "...                                                    ...  \n",
      "4218460    LINESTRING (1.24414 41.12774, 1.24409 41.12769)  \n",
      "4218461  LINESTRING (1.24500 41.12937, 1.24504 41.12937...  \n",
      "4218462  LINESTRING (1.24531 41.12982, 1.24539 41.12990...  \n",
      "4218675  LINESTRING (-2.06315 42.67853, -2.06319 42.678...  \n",
      "4218907  LINESTRING (-2.47750 42.45531, -2.47770 42.455...  \n",
      "\n",
      "[24684 rows x 3 columns]\n",
      "                                                    name   highway  \\\n",
      "432                                                 None  cycleway   \n",
      "663                                Avinguda de la Ribera  cycleway   \n",
      "664                                     Carrer d'Andorra  cycleway   \n",
      "1358                                                None  cycleway   \n",
      "1371                                                None  cycleway   \n",
      "...                                                  ...       ...   \n",
      "23124                             BI-R1 Barakaldo-Muskiz  cycleway   \n",
      "23125                                Vía verde del oeste  cycleway   \n",
      "23126  Vía Verde Ferrocarril Santander - Mediterráneo...  cycleway   \n",
      "23135                                   Bilbao - Lutxana  cycleway   \n",
      "23136                    Universidad de Deusto - Zorroza  cycleway   \n",
      "\n",
      "                                                geometry  \n",
      "432    LINESTRING (2.18666 41.41176, 2.18662 41.41174...  \n",
      "663      LINESTRING (2.24915 41.94560, 2.24898 41.94582)  \n",
      "664    LINESTRING (2.25110 41.94747, 2.25111 41.94753...  \n",
      "1358     LINESTRING (2.44361 41.53083, 2.44244 41.52993)  \n",
      "1371   LINESTRING (2.42648 41.52582, 2.42565 41.52556...  \n",
      "...                                                  ...  \n",
      "23124  MULTILINESTRING ((-2.99951 43.30299, -2.99954 ...  \n",
      "23125  MULTILINESTRING ((-5.74488 42.09813, -5.74500 ...  \n",
      "23126  MULTILINESTRING ((-3.16412 41.84696, -3.15906 ...  \n",
      "23135  MULTILINESTRING ((-2.92378 43.26391, -2.92414 ...  \n",
      "23136  MULTILINESTRING ((-2.97329 43.27821, -2.97364 ...  \n",
      "\n",
      "[284 rows x 3 columns]\n"
     ]
    },
    {
     "name": "stderr",
     "output_type": "stream",
     "text": [
      "c:\\Users\\rensw\\miniconda3\\envs\\pcraster\\lib\\site-packages\\geopandas\\io\\file.py:362: FutureWarning: pandas.Int64Index is deprecated and will be removed from pandas in a future version. Use pandas.Index with the appropriate dtype instead.\n",
      "  pd.Int64Index,\n"
     ]
    }
   ],
   "source": [
    "# create path \n",
    "path_rawdata_mainland = cwd + '\\\\raw\\Spain_Mainland_OSM_210101_FME'\n",
    "print(path_rawdata_mainland)\n",
    "\n",
    "# filter on key:tag combination in datasets\n",
    "for file in glob(path_rawdata_mainland + '/' + 'highway_*.shp'):\n",
    "    # get file name \n",
    "    file_name = os.path.basename(file)\n",
    "    dataSrc = gpd.read_file(file)\n",
    "    new_shp = dataSrc[dataSrc['highway'] =='cycleway']\n",
    "    if new_shp.empty == True:\n",
    "        print(file_name + ' is empty')\n",
    "        continue\n",
    "    else:\n",
    "        new_shp.to_file(cwd + '/interim/' + 'M3_filtereddata_spain_mainland_03112022/' + file_name)\n",
    "    print(new_shp)"
   ]
  },
  {
   "cell_type": "code",
   "execution_count": 6,
   "metadata": {},
   "outputs": [
    {
     "name": "stdout",
     "output_type": "stream",
     "text": [
      "c:\\Users\\rensw\\OneDrive - Universiteit Utrecht\\GIMA\\Thesis - Buitenland\\Thesis\\Data\\Raw_data\\M3\\raw\\Spain_CanaryIslands_OSM_210101_FME\n",
      "highway_area.shp is empty\n",
      "highway_node.shp is empty\n",
      "        name   highway                                           geometry\n",
      "1409    None  cycleway  LINESTRING (-16.26416 28.45927, -16.26372 28.4...\n",
      "1455    None  cycleway  LINESTRING (-16.52915 28.41641, -16.52892 28.4...\n",
      "1487    None  cycleway  LINESTRING (-16.26194 28.46634, -16.26186 28.4...\n",
      "1490    None  cycleway  LINESTRING (-16.26211 28.46583, -16.26194 28.4...\n",
      "3736    None  cycleway  LINESTRING (-16.72258 28.37175, -16.72271 28.3...\n",
      "...      ...       ...                                                ...\n",
      "167224  None  cycleway  LINESTRING (-13.56073 28.95703, -13.56077 28.9...\n",
      "167225  None  cycleway  LINESTRING (-13.57099 28.95448, -13.57105 28.9...\n",
      "167226  None  cycleway  LINESTRING (-13.62642 28.92813, -13.62655 28.9...\n",
      "167227  None  cycleway  LINESTRING (-13.54185 28.96077, -13.54194 28.9...\n",
      "167228  None  cycleway  LINESTRING (-13.54191 28.96065, -13.54207 28.9...\n",
      "\n",
      "[203 rows x 3 columns]\n"
     ]
    },
    {
     "name": "stderr",
     "output_type": "stream",
     "text": [
      "c:\\Users\\rensw\\miniconda3\\envs\\pcraster\\lib\\site-packages\\geopandas\\io\\file.py:362: FutureWarning: pandas.Int64Index is deprecated and will be removed from pandas in a future version. Use pandas.Index with the appropriate dtype instead.\n",
      "  pd.Int64Index,\n"
     ]
    }
   ],
   "source": [
    "# create path\n",
    "path_rawdata_canary = cwd + '\\\\raw\\Spain_CanaryIslands_OSM_210101_FME'\n",
    "print(path_rawdata_canary)\n",
    "\n",
    "# filter on key:tag combination in datasets\n",
    "for file in glob(path_rawdata_canary + '/' + 'highway_*.shp'):\n",
    "    # get file name \n",
    "    file_name = os.path.basename(file)\n",
    "    dataSrc = gpd.read_file(file)\n",
    "    new_shp = dataSrc[dataSrc['highway'] =='cycleway']\n",
    "    if new_shp.empty == True:\n",
    "        print(file_name + ' is empty')\n",
    "        continue\n",
    "    else:\n",
    "        new_shp.to_file(cwd + '/interim/' + 'M3_filtereddata_spain_canary_03112022/' + file_name)\n",
    "    print(new_shp)"
   ]
  }
 ],
 "metadata": {
  "kernelspec": {
   "display_name": "Python 3.9.10",
   "language": "python",
   "name": "python3"
  },
  "language_info": {
   "codemirror_mode": {
    "name": "ipython",
    "version": 3
   },
   "file_extension": ".py",
   "mimetype": "text/x-python",
   "name": "python",
   "nbconvert_exporter": "python",
   "pygments_lexer": "ipython3",
   "version": "3.9.10"
  },
  "orig_nbformat": 4,
  "vscode": {
   "interpreter": {
    "hash": "61091f059b156ff61f5c25e7d74939e877fba054d7631de962b93c89f1908afa"
   }
  }
 },
 "nbformat": 4,
 "nbformat_minor": 2
}
