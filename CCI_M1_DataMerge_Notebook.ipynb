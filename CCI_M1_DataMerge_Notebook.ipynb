{
 "cells": [
  {
   "cell_type": "code",
   "execution_count": 9,
   "metadata": {},
   "outputs": [],
   "source": [
    "# importing the required modules\n",
    "import os\n",
    "import geopandas as gpd\n",
    "from glob import glob\n",
    "import os.path"
   ]
  },
  {
   "cell_type": "code",
   "execution_count": 10,
   "metadata": {},
   "outputs": [
    {
     "name": "stdout",
     "output_type": "stream",
     "text": [
      "Current working directory: c:\\Users\\rensw\\OneDrive - Universiteit Utrecht\\GIMA\\Thesis - Buitenland\\Thesis\\Data\\Raw_data\\M1\n"
     ]
    }
   ],
   "source": [
    "# Get the current working directory\n",
    "cwd = os.getcwd()\n",
    "\n",
    "# Print the current working directory\n",
    "print(\"Current working directory: {0}\".format(cwd))"
   ]
  },
  {
   "cell_type": "code",
   "execution_count": 11,
   "metadata": {},
   "outputs": [
    {
     "name": "stderr",
     "output_type": "stream",
     "text": [
      "c:\\Users\\rensw\\miniconda3\\envs\\pcraster\\lib\\site-packages\\geopandas\\io\\file.py:362: FutureWarning: pandas.Int64Index is deprecated and will be removed from pandas in a future version. Use pandas.Index with the appropriate dtype instead.\n",
      "  pd.Int64Index,\n"
     ]
    },
    {
     "name": "stdout",
     "output_type": "stream",
     "text": [
      "M1_highway_area.shp --> saved with data of Spain Mainland & Canary Islands\n",
      "highway_node.shp --> does not exist for Canary Islands\n",
      "M1_highway_node.shp --> saved without data of Canary Islands\n"
     ]
    },
    {
     "name": "stderr",
     "output_type": "stream",
     "text": [
      "c:\\Users\\rensw\\miniconda3\\envs\\pcraster\\lib\\site-packages\\geopandas\\io\\file.py:362: FutureWarning: pandas.Int64Index is deprecated and will be removed from pandas in a future version. Use pandas.Index with the appropriate dtype instead.\n",
      "  pd.Int64Index,\n",
      "c:\\Users\\rensw\\miniconda3\\envs\\pcraster\\lib\\site-packages\\geopandas\\io\\file.py:362: FutureWarning: pandas.Int64Index is deprecated and will be removed from pandas in a future version. Use pandas.Index with the appropriate dtype instead.\n",
      "  pd.Int64Index,\n"
     ]
    },
    {
     "name": "stdout",
     "output_type": "stream",
     "text": [
      "M1_highway_way.shp --> saved with data of Spain Mainland & Canary Islands\n",
      "highway_way_1.shp --> does not exist for Canary Islands\n"
     ]
    },
    {
     "name": "stderr",
     "output_type": "stream",
     "text": [
      "c:\\Users\\rensw\\miniconda3\\envs\\pcraster\\lib\\site-packages\\geopandas\\io\\file.py:362: FutureWarning: pandas.Int64Index is deprecated and will be removed from pandas in a future version. Use pandas.Index with the appropriate dtype instead.\n",
      "  pd.Int64Index,\n"
     ]
    },
    {
     "name": "stdout",
     "output_type": "stream",
     "text": [
      "M1_highway_way_1.shp --> saved without data of Canary Islands\n"
     ]
    },
    {
     "name": "stderr",
     "output_type": "stream",
     "text": [
      "c:\\Users\\rensw\\miniconda3\\envs\\pcraster\\lib\\site-packages\\geopandas\\io\\file.py:362: FutureWarning: pandas.Int64Index is deprecated and will be removed from pandas in a future version. Use pandas.Index with the appropriate dtype instead.\n",
      "  pd.Int64Index,\n"
     ]
    },
    {
     "name": "stdout",
     "output_type": "stream",
     "text": [
      "M1_leisure_area.shp --> saved with data of Spain Mainland & Canary Islands\n"
     ]
    },
    {
     "name": "stderr",
     "output_type": "stream",
     "text": [
      "c:\\Users\\rensw\\miniconda3\\envs\\pcraster\\lib\\site-packages\\geopandas\\io\\file.py:362: FutureWarning: pandas.Int64Index is deprecated and will be removed from pandas in a future version. Use pandas.Index with the appropriate dtype instead.\n",
      "  pd.Int64Index,\n",
      "c:\\Users\\rensw\\miniconda3\\envs\\pcraster\\lib\\site-packages\\geopandas\\io\\file.py:362: FutureWarning: pandas.Int64Index is deprecated and will be removed from pandas in a future version. Use pandas.Index with the appropriate dtype instead.\n",
      "  pd.Int64Index,\n"
     ]
    },
    {
     "name": "stdout",
     "output_type": "stream",
     "text": [
      "M1_leisure_node.shp --> saved with data of Spain Mainland & Canary Islands\n",
      "M1_leisure_way.shp --> saved with data of Spain Mainland & Canary Islands\n"
     ]
    },
    {
     "name": "stderr",
     "output_type": "stream",
     "text": [
      "c:\\Users\\rensw\\miniconda3\\envs\\pcraster\\lib\\site-packages\\geopandas\\io\\file.py:362: FutureWarning: pandas.Int64Index is deprecated and will be removed from pandas in a future version. Use pandas.Index with the appropriate dtype instead.\n",
      "  pd.Int64Index,\n"
     ]
    },
    {
     "name": "stdout",
     "output_type": "stream",
     "text": [
      "M1_place_area.shp --> saved with data of Spain Mainland & Canary Islands\n",
      "M1_place_node.shp --> saved with data of Spain Mainland & Canary Islands\n",
      "place_way.shp --> does not exist for Canary Islands\n",
      "M1_place_way.shp --> saved without data of Canary Islands\n"
     ]
    },
    {
     "name": "stderr",
     "output_type": "stream",
     "text": [
      "c:\\Users\\rensw\\miniconda3\\envs\\pcraster\\lib\\site-packages\\geopandas\\io\\file.py:362: FutureWarning: pandas.Int64Index is deprecated and will be removed from pandas in a future version. Use pandas.Index with the appropriate dtype instead.\n",
      "  pd.Int64Index,\n",
      "c:\\Users\\rensw\\miniconda3\\envs\\pcraster\\lib\\site-packages\\geopandas\\io\\file.py:362: FutureWarning: pandas.Int64Index is deprecated and will be removed from pandas in a future version. Use pandas.Index with the appropriate dtype instead.\n",
      "  pd.Int64Index,\n"
     ]
    }
   ],
   "source": [
    "# create path\n",
    "path_rawdata_canary = cwd + '/interim/M1_filtereddata_spain_canary_03112022/'\n",
    "path_rawdata_mainland = cwd + '/interim/M1_filtereddata_spain_mainland_03112022/'\n",
    "\n",
    "# filter on key:tag combination in datasets and skip dataset if now value could be found (df == empty)\n",
    "for file in glob(path_rawdata_mainland + '*.shp'):\n",
    "    file_name = os.path.basename(file)\n",
    "    canary_file = path_rawdata_canary + file_name\n",
    "\n",
    "    error_1 = path_rawdata_canary + 'highway_node.shp'\n",
    "    error_2 = path_rawdata_canary + 'highway_way_1.shp'\n",
    "    error_3 = path_rawdata_canary + 'place_way.shp'\n",
    "\n",
    "    # Filter out datasets that are not existing for Canarian Islands\n",
    "    if canary_file in [error_1, error_2, error_3]:\n",
    "        print(file_name + ' --> does not exist for Canary Islands')\n",
    "        \n",
    "        # Read files that only exist for the Spain Mainland\n",
    "        mainlandSrc = gpd.read_file(file)\n",
    "\n",
    "        # Save datasets\n",
    "        mainlandSrc.to_file(cwd + '/interim/' + 'M1_' + file_name)\n",
    "        print('M1_' + file_name + ' --> saved without data of Canary Islands')\n",
    "        #print(mainlandSrc)\n",
    "        continue\n",
    "\n",
    "    # Read and Merge shapefiles that exist for both the Spain Mainland and the Canary Islands\n",
    "    else:\n",
    "        # Read shapefiles of the Spanish Mainland and Canary Islands\n",
    "        mainlandSrc = gpd.read_file(file)\n",
    "        canarySrc = gpd.read_file(canary_file) \n",
    "\n",
    "        # Merge shapefiles\n",
    "        new_shp = gpd.pd.concat([mainlandSrc, canarySrc])\n",
    "        \n",
    "        # Save datasets\n",
    "        new_shp.to_file(cwd + '/interim/' + 'M1_' + file_name)\n",
    "        print('M1_' + file_name + ' --> saved with data of Spain Mainland & Canary Islands')\n",
    "        #print(new_shp)\n",
    "        continue"
   ]
  },
  {
   "cell_type": "code",
   "execution_count": 13,
   "metadata": {},
   "outputs": [
    {
     "data": {
      "text/plain": [
       "<AxesSubplot:>"
      ]
     },
     "execution_count": 13,
     "metadata": {},
     "output_type": "execute_result"
    },
    {
     "data": {
      "image/png": "[encoded data removed]",
      "text/plain": [
       "<Figure size 432x288 with 1 Axes>"
      ]
     },
     "metadata": {
      "needs_background": "light"
     },
     "output_type": "display_data"
    }
   ],
   "source": [
    "shp_roads = cwd + '/interim/M1_highway_way.shp'\n",
    "shp = gpd.read_file(shp_roads)\n",
    "shp.plot()\n"
   ]
  }
 ],
 "metadata": {
  "kernelspec": {
   "display_name": "Python 3.9.10",
   "language": "python",
   "name": "python3"
  },
  "language_info": {
   "codemirror_mode": {
    "name": "ipython",
    "version": 3
   },
   "file_extension": ".py",
   "mimetype": "text/x-python",
   "name": "python",
   "nbconvert_exporter": "python",
   "pygments_lexer": "ipython3",
   "version": "3.9.10"
  },
  "orig_nbformat": 4,
  "vscode": {
   "interpreter": {
    "hash": "61091f059b156ff61f5c25e7d74939e877fba054d7631de962b93c89f1908afa"
   }
  }
 },
 "nbformat": 4,
 "nbformat_minor": 2
}
